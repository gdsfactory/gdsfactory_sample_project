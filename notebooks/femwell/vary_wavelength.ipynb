{
 "cells": [
  {
   "cell_type": "markdown",
   "id": "0",
   "metadata": {},
   "source": [
    "# Dispersion"
   ]
  },
  {
   "cell_type": "code",
   "execution_count": null,
   "id": "1",
   "metadata": {
    "tags": [
     "hide-input"
    ]
   },
   "outputs": [],
   "source": [
    "from collections import OrderedDict\n",
    "\n",
    "import matplotlib.pyplot as plt\n",
    "import numpy as np\n",
    "from numpy.polynomial import Polynomial\n",
    "from scipy.constants import speed_of_light\n",
    "from shapely.geometry import box\n",
    "from shapely.ops import clip_by_rect\n",
    "from skfem import Basis, ElementTriP0\n",
    "from skfem.io.meshio import from_meshio\n",
    "from tqdm import tqdm\n",
    "\n",
    "from femwell.maxwell.waveguide import compute_modes\n",
    "from femwell.mesh import mesh_from_OrderedDict"
   ]
  },
  {
   "cell_type": "markdown",
   "id": "2",
   "metadata": {
    "lines_to_next_cell": 2
   },
   "source": [
    "First we define the dispersion relations of the used materials.\n",
    "Both, the dispersion of silicon nitride and of silicon dioxide are taken from refractiveindex.info"
   ]
  },
  {
   "cell_type": "code",
   "execution_count": null,
   "id": "3",
   "metadata": {},
   "outputs": [],
   "source": [
    "def n_silicon_nitride(wavelength):\n",
    "    x = wavelength\n",
    "    return (\n",
    "        1 + 3.0249 / (1 - (0.1353406 / x) ** 2) + 40314 / (1 - (1239.842 / x) ** 2)\n",
    "    ) ** 0.5\n",
    "\n",
    "\n",
    "def n_silicon_dioxide(wavelength):\n",
    "    x = wavelength\n",
    "    return (\n",
    "        1\n",
    "        + 0.6961663 / (1 - (0.0684043 / x) ** 2)\n",
    "        + 0.4079426 / (1 - (0.1162414 / x) ** 2)\n",
    "        + 0.8974794 / (1 - (9.896161 / x) ** 2)\n",
    "    ) ** 0.5"
   ]
  },
  {
   "cell_type": "markdown",
   "id": "4",
   "metadata": {},
   "source": [
    "Now we define the geometry, we use a box for the core with a height of 500nm and a width of 1000nm.\n",
    "Everything below the waveguide is defined as the box and the waveguide is surrounded by the clad."
   ]
  },
  {
   "cell_type": "code",
   "execution_count": null,
   "id": "5",
   "metadata": {},
   "outputs": [],
   "source": [
    "core = box(0, 0, 1, 0.5)\n",
    "polygons = OrderedDict(\n",
    "    core=core,\n",
    "    box=clip_by_rect(core.buffer(1.0, resolution=4), -np.inf, -np.inf, np.inf, 0),\n",
    "    clad=clip_by_rect(core.buffer(1.0, resolution=4), -np.inf, 0, np.inf, np.inf),\n",
    ")\n",
    "\n",
    "resolutions = {\"core\": {\"resolution\": 0.1, \"distance\": 1}}\n",
    "\n",
    "mesh = from_meshio(\n",
    "    mesh_from_OrderedDict(polygons, resolutions, default_resolution_max=0.6)\n",
    ")\n",
    "mesh.draw().show()"
   ]
  },
  {
   "cell_type": "markdown",
   "id": "6",
   "metadata": {},
   "source": [
    "Now we sweep the wavelengths: We do a loop where whe set the epsilon values according to the wavelength and\n",
    "as we don't change the geometry, we can reuse the mesh, yay!"
   ]
  },
  {
   "cell_type": "code",
   "execution_count": null,
   "id": "7",
   "metadata": {
    "tags": [
     "remove-stderr"
    ]
   },
   "outputs": [],
   "source": [
    "wavelengths = np.linspace(1.2, 1.9, 20)\n",
    "num_modes = 2\n",
    "\n",
    "all_neffs = np.zeros((wavelengths.shape[0], num_modes))\n",
    "all_te_fracs = np.zeros((wavelengths.shape[0], num_modes))\n",
    "for i, wavelength in enumerate(tqdm(wavelengths)):\n",
    "    basis0 = Basis(mesh, ElementTriP0())\n",
    "    epsilon = basis0.zeros(dtype=complex)\n",
    "    for subdomain, n in {\n",
    "        \"core\": n_silicon_nitride(wavelength),\n",
    "        \"box\": n_silicon_dioxide(wavelength),\n",
    "        \"clad\": 1,\n",
    "    }.items():\n",
    "        epsilon[basis0.get_dofs(elements=subdomain)] = n**2\n",
    "\n",
    "    modes = compute_modes(basis0, epsilon, wavelength=wavelength, num_modes=num_modes)\n",
    "    all_neffs[i] = np.real([mode.n_eff for mode in modes])\n",
    "    all_te_fracs[i, :] = [mode.te_fraction for mode in modes]"
   ]
  },
  {
   "cell_type": "markdown",
   "id": "8",
   "metadata": {},
   "source": [
    "Now we only look at the real part of the effective refractive indices and plot all the dispersion relation,\n",
    "the group velocity and the dispersion parameter over the wavelength.\n",
    "So convenient!"
   ]
  },
  {
   "cell_type": "code",
   "execution_count": null,
   "id": "9",
   "metadata": {
    "tags": [
     "hide-input"
    ]
   },
   "outputs": [],
   "source": [
    "all_neffs = np.real(all_neffs)\n",
    "\n",
    "fig, axs = plt.subplots(1, 3)\n",
    "\n",
    "axs[0].set_xlabel(\"Wavelength / µm\")\n",
    "axs[0].set_ylabel(\"Effective refractive index\")\n",
    "axs[0].set_ylim(1.444, np.max(all_neffs) + 0.1 * (np.max(all_neffs) - 1.444))\n",
    "for lams, te_fracs in zip(all_neffs.T, all_te_fracs.T):\n",
    "    axs[0].plot(wavelengths, lams)\n",
    "    sc = axs[0].scatter(wavelengths, lams, c=te_fracs, cmap=\"cool\", vmin=0, vmax=1)\n",
    "\n",
    "\n",
    "axs[1].set_xlabel(\"Wavelength / µm\")\n",
    "axs[1].set_ylabel(\"Group velocity $v_g$\")\n",
    "for lams, te_fracs in zip(all_neffs.T, all_te_fracs.T):\n",
    "    fit = Polynomial.fit(wavelengths, lams, deg=4)\n",
    "    y = speed_of_light / (lams - wavelengths * fit.deriv(1)(wavelengths))\n",
    "    axs[1].plot(wavelengths, y)\n",
    "    sc = axs[1].scatter(wavelengths, y, c=te_fracs, cmap=\"cool\", vmin=0, vmax=1)\n",
    "\n",
    "axs[2].set_xlabel(\"Wavelength / µm\")\n",
    "axs[2].set_ylabel(\"Group velocity dispersion coefficient $D$\")\n",
    "for lams, te_fracs in zip(all_neffs.T, all_te_fracs.T):\n",
    "    fit = Polynomial.fit(wavelengths, lams, deg=4)\n",
    "    y = wavelengths**2 * fit.deriv(2)(wavelengths)\n",
    "    axs[2].plot(wavelengths, y)\n",
    "    sc = axs[2].scatter(wavelengths, y, c=te_fracs, cmap=\"cool\", vmin=0, vmax=1)\n",
    "fig.colorbar(sc).set_label(\"TE fraction\")\n",
    "plt.tight_layout()\n",
    "plt.show()"
   ]
  }
 ],
 "metadata": {
  "jupytext": {
   "encoding": "# -*- coding: utf-8 -*-",
   "main_language": "python"
  },
  "kernelspec": {
   "display_name": "Python 3",
   "name": "python3"
  }
 },
 "nbformat": 4,
 "nbformat_minor": 5
}
