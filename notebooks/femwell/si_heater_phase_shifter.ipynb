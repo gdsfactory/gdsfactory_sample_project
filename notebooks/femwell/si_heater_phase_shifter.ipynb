{
 "cells": [
  {
   "cell_type": "markdown",
   "id": "0",
   "metadata": {},
   "source": [
    "# Doped silicon heater"
   ]
  },
  {
   "cell_type": "code",
   "execution_count": null,
   "id": "1",
   "metadata": {
    "tags": [
     "hide-input"
    ]
   },
   "outputs": [],
   "source": [
    "from collections import OrderedDict\n",
    "\n",
    "import matplotlib.pyplot as plt\n",
    "import numpy as np\n",
    "from shapely.geometry import LineString, Polygon\n",
    "from skfem import Basis, ElementTriP0, Mesh\n",
    "from skfem.io import from_meshio\n",
    "\n",
    "from femwell.mesh import mesh_from_OrderedDict\n",
    "from femwell.thermal import solve_thermal"
   ]
  },
  {
   "cell_type": "markdown",
   "id": "2",
   "metadata": {},
   "source": [
    "Simulating the doped silicon heater in {cite}`Jacques2019`.\n",
    "First we set up the mesh:"
   ]
  },
  {
   "cell_type": "code",
   "execution_count": null,
   "id": "3",
   "metadata": {
    "tags": [
     "remove-stderr"
    ]
   },
   "outputs": [],
   "source": [
    "w_sim = 8 * 4\n",
    "h_clad = 2.8\n",
    "h_box = 2\n",
    "w_core = 0.5\n",
    "h_core = 0.22\n",
    "w_buffer = 0.8\n",
    "h_buffer = 0.09\n",
    "h_heater = h_buffer\n",
    "w_heater = 1\n",
    "offset_heater = 2.2\n",
    "\n",
    "polygons = OrderedDict(\n",
    "    bottom=LineString([(-w_sim / 2, -h_box), (w_sim / 2, -h_box)]),\n",
    "    core=Polygon(\n",
    "        [\n",
    "            (-w_core / 2, 0),\n",
    "            (-w_core / 2, h_core),\n",
    "            (w_core / 2, h_core),\n",
    "            (w_core / 2, 0),\n",
    "        ]\n",
    "    ),\n",
    "    slab_l=Polygon(\n",
    "        [\n",
    "            (-w_core / 2 - w_buffer, 0),\n",
    "            (-w_core / 2 - w_buffer, h_buffer),\n",
    "            (-w_core / 2, h_buffer),\n",
    "            (-w_core / 2, 0),\n",
    "        ]\n",
    "    ),\n",
    "    slab_r=Polygon(\n",
    "        [\n",
    "            (+w_core / 2 + w_buffer, 0),\n",
    "            (+w_core / 2 + w_buffer, h_buffer),\n",
    "            (+w_core / 2, h_buffer),\n",
    "            (+w_core / 2, 0),\n",
    "        ]\n",
    "    ),\n",
    "    heater_l=Polygon(\n",
    "        [\n",
    "            (-w_core / 2 - w_buffer - w_heater, 0),\n",
    "            (-w_core / 2 - w_buffer - w_heater, h_heater),\n",
    "            (-w_core / 2 - w_buffer, h_heater),\n",
    "            (-w_core / 2 - w_buffer, 0),\n",
    "        ]\n",
    "    ),\n",
    "    heater_r=Polygon(\n",
    "        [\n",
    "            (w_core / 2 + w_buffer + w_heater, 0),\n",
    "            (w_core / 2 + w_buffer + w_heater, h_heater),\n",
    "            (w_core / 2 + w_buffer, h_heater),\n",
    "            (w_core / 2 + w_buffer, 0),\n",
    "        ]\n",
    "    ),\n",
    "    clad=Polygon(\n",
    "        [\n",
    "            (-w_sim / 2, 0),\n",
    "            (-w_sim / 2, h_clad),\n",
    "            (w_sim / 2, h_clad),\n",
    "            (w_sim / 2, 0),\n",
    "        ]\n",
    "    ),\n",
    "    box=Polygon(\n",
    "        [\n",
    "            (-w_sim / 2, 0),\n",
    "            (-w_sim / 2, -h_box),\n",
    "            (w_sim / 2, -h_box),\n",
    "            (w_sim / 2, 0),\n",
    "        ]\n",
    "    ),\n",
    ")\n",
    "\n",
    "resolutions = dict(\n",
    "    core={\"resolution\": 0.01, \"distance\": 1},\n",
    "    clad={\"resolution\": 0.4, \"distance\": 1},\n",
    "    box={\"resolution\": 0.4, \"distance\": 1},\n",
    "    heater_l={\"resolution\": 0.01, \"distance\": 1},\n",
    "    heater_r={\"resolution\": 0.01, \"distance\": 1},\n",
    ")\n",
    "\n",
    "mesh = from_meshio(\n",
    "    mesh_from_OrderedDict(polygons, resolutions, default_resolution_max=0.4)\n",
    ")"
   ]
  },
  {
   "cell_type": "markdown",
   "id": "4",
   "metadata": {},
   "source": [
    "And then we solve it!"
   ]
  },
  {
   "cell_type": "code",
   "execution_count": null,
   "id": "5",
   "metadata": {
    "lines_to_next_cell": 2,
    "tags": [
     "remove-stderr"
    ]
   },
   "outputs": [],
   "source": [
    "basis0 = Basis(mesh, ElementTriP0(), intorder=4)\n",
    "thermal_conductivity_p0 = basis0.zeros()\n",
    "for domain, value in {\n",
    "    \"core\": 90,\n",
    "    \"box\": 1.38,\n",
    "    \"clad\": 1.38,\n",
    "    \"slab_l\": 55,\n",
    "    \"slab_r\": 55,\n",
    "    \"heater_l\": 55,\n",
    "    \"heater_r\": 55,\n",
    "}.items():\n",
    "    thermal_conductivity_p0[basis0.get_dofs(elements=domain)] = value\n",
    "thermal_conductivity_p0 *= 1e-12  # 1e-12 -> conversion from 1/m^2 -> 1/um^2\n",
    "\n",
    "power = 25.2e-3\n",
    "current = np.sqrt(\n",
    "    power\n",
    "    * 1e5\n",
    "    * (polygons[\"heater_l\"].area + polygons[\"heater_r\"].area)\n",
    "    * 1e-12\n",
    "    / 320e-6\n",
    ")\n",
    "print(current)\n",
    "\n",
    "basis, temperature = solve_thermal(\n",
    "    basis0,\n",
    "    thermal_conductivity_p0,\n",
    "    specific_conductivity={\"heater_l\": 1e5, \"heater_r\": 1e5},\n",
    "    current_densities={\n",
    "        \"heater_l\": current / (polygons[\"heater_l\"].area + polygons[\"heater_r\"].area),\n",
    "        \"heater_r\": current / (polygons[\"heater_l\"].area + polygons[\"heater_r\"].area),\n",
    "    },\n",
    "    fixed_boundaries={\"bottom\": 303},\n",
    ")\n",
    "\n",
    "fig, ax = plt.subplots(subplot_kw=dict(aspect=1))\n",
    "for subdomain in mesh.subdomains.keys() - {\"gmsh:bounding_entities\"}:\n",
    "    mesh.restrict(subdomain).draw(ax=ax, boundaries_only=True)\n",
    "basis.plot(temperature, shading=\"gouraud\", ax=ax)\n",
    "\n",
    "from mpl_toolkits.axes_grid1 import make_axes_locatable\n",
    "\n",
    "divider = make_axes_locatable(ax)\n",
    "cax = divider.append_axes(\"right\", size=\"5%\", pad=0.05)\n",
    "plt.colorbar(ax.collections[0], cax=cax)\n",
    "plt.show()"
   ]
  },
  {
   "cell_type": "markdown",
   "id": "6",
   "metadata": {},
   "source": [
    "## Bibliography\n",
    "\n",
    "```{bibliography}\n",
    ":style: unsrt\n",
    ":filter: docname in docnames\n",
    "```"
   ]
  }
 ],
 "metadata": {
  "jupytext": {
   "main_language": "python"
  },
  "kernelspec": {
   "display_name": "Python 3",
   "name": "python3"
  }
 },
 "nbformat": 4,
 "nbformat_minor": 5
}
