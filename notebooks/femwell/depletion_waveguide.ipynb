{
 "cells": [
  {
   "cell_type": "markdown",
   "id": "0",
   "metadata": {},
   "source": [
    "# PN junction depletion modulator"
   ]
  },
  {
   "cell_type": "code",
   "execution_count": null,
   "id": "1",
   "metadata": {
    "tags": [
     "hide-input"
    ]
   },
   "outputs": [],
   "source": [
    "from collections import OrderedDict\n",
    "\n",
    "import matplotlib.pyplot as plt\n",
    "import numpy as np\n",
    "import shapely\n",
    "from skfem import Basis, ElementTriP0\n",
    "from skfem.io.meshio import from_meshio\n",
    "\n",
    "from femwell.maxwell.waveguide import compute_modes\n",
    "from femwell.mesh import mesh_from_OrderedDict\n",
    "from femwell.pn_analytical import index_pn_junction, k_to_alpha_dB"
   ]
  },
  {
   "cell_type": "markdown",
   "id": "2",
   "metadata": {},
   "source": [
    "We can study the propagation constant in waveguides as a function of arbitrary physics.\n",
    "Here, we consider the depletion approximation to pn junctions to study how doping level and junction placement affect modulation in a doped silicon waveguide. This is a simple, yet common, approximation {cite}`Chrostowski2015Mar`."
   ]
  },
  {
   "cell_type": "code",
   "execution_count": null,
   "id": "3",
   "metadata": {},
   "outputs": [],
   "source": [
    "clad_thickness = 2\n",
    "slab_width = 3\n",
    "wg_width = 0.5\n",
    "wg_thickness = 0.22\n",
    "slab_thickness = 0.09\n",
    "\n",
    "core = shapely.geometry.box(\n",
    "    -wg_width / 2, -wg_thickness / 2, wg_width / 2, wg_thickness / 2\n",
    ")\n",
    "slab = shapely.geometry.box(\n",
    "    -slab_width / 2,\n",
    "    -wg_thickness / 2,\n",
    "    slab_width / 2,\n",
    "    -wg_thickness / 2 + slab_thickness,\n",
    ")\n",
    "clad = shapely.geometry.box(\n",
    "    -slab_width / 2, -clad_thickness / 2, slab_width / 2, clad_thickness / 2\n",
    ")\n",
    "\n",
    "polygons = OrderedDict(\n",
    "    core=core,\n",
    "    slab=slab,\n",
    "    clad=clad,\n",
    ")\n",
    "\n",
    "resolutions = dict(\n",
    "    core={\"resolution\": 0.02, \"distance\": 0.5},\n",
    "    slab={\"resolution\": 0.04, \"distance\": 0.5},\n",
    ")\n",
    "\n",
    "mesh = from_meshio(\n",
    "    mesh_from_OrderedDict(polygons, resolutions, default_resolution_max=10)\n",
    ")\n",
    "mesh.draw().show()"
   ]
  },
  {
   "cell_type": "markdown",
   "id": "4",
   "metadata": {},
   "source": [
    "To define the epsilon, we proceed as for a regular waveguide, but we superimpose a voltage-dependent index of refraction based on the Soref Equations {cite}`Soref1987Jan`, {cite}`Nedeljkovic2011Oct`. These phenomenologically relate the change in complex index of refraction of silicon as a function of the concentration of free carriers. We model the spatial distribution of carriers according to the physics of a 1D PN junction in the depletion approximation. For more accurate results, full modeling of the silicon processing and physics through TCAD must be performed."
   ]
  },
  {
   "cell_type": "code",
   "execution_count": null,
   "id": "5",
   "metadata": {},
   "outputs": [],
   "source": [
    "xpn = 0\n",
    "NA = 1e18\n",
    "ND = 1e18\n",
    "V = 0\n",
    "wavelength = 1.55\n",
    "\n",
    "\n",
    "def define_index(mesh, V, xpn, NA, ND, wavelength):\n",
    "    basis0 = Basis(mesh, ElementTriP0())\n",
    "    epsilon = basis0.zeros(dtype=complex)\n",
    "    for subdomain, n in {\"core\": 3.45, \"slab\": 3.45}.items():\n",
    "        epsilon[basis0.get_dofs(elements=subdomain)] = n\n",
    "    epsilon += basis0.project(\n",
    "        lambda x: index_pn_junction(x[0], xpn, NA, ND, V, wavelength),\n",
    "        dtype=complex,\n",
    "    )\n",
    "    for subdomain, n in {\"clad\": 1.444}.items():\n",
    "        epsilon[basis0.get_dofs(elements=subdomain)] = n\n",
    "    epsilon *= epsilon  # square now\n",
    "    return basis0, epsilon\n",
    "\n",
    "\n",
    "basis0, epsilon = define_index(mesh, V, xpn, NA, ND, wavelength)\n",
    "basis0.plot(epsilon.real, colorbar=True).show()\n",
    "basis0.plot(epsilon.imag, colorbar=True).show()"
   ]
  },
  {
   "cell_type": "markdown",
   "id": "6",
   "metadata": {},
   "source": [
    "The index change is weak compared to the contrast between silicon and silicon dioxide, but it is accompanied by a change in absorption which is easier to observe. As voltage is increased, the region without charge widens, which is the mechanism behind depletion modulation:"
   ]
  },
  {
   "cell_type": "code",
   "execution_count": null,
   "id": "7",
   "metadata": {},
   "outputs": [],
   "source": [
    "V = -4\n",
    "basis0, epsilon = define_index(mesh, V, xpn, NA, ND, wavelength)\n",
    "basis0.plot(epsilon.imag, colorbar=True).show()"
   ]
  },
  {
   "cell_type": "markdown",
   "id": "8",
   "metadata": {},
   "source": [
    "And now we can mode solve as before, and observe the change in effective index and absorption of the fundamental mode as a function of applied voltage for given junction position and doping levels:"
   ]
  },
  {
   "cell_type": "code",
   "execution_count": null,
   "id": "9",
   "metadata": {},
   "outputs": [],
   "source": [
    "voltages = [0, -1, -2, -3, -4]\n",
    "neff_vs_V = []\n",
    "for V in voltages:\n",
    "    basis0, epsilon = define_index(mesh, V, xpn, NA, ND, wavelength)\n",
    "    modes = compute_modes(basis0, epsilon, wavelength=wavelength, num_modes=1, order=2)\n",
    "    neff_vs_V.append(modes[0].n_eff)"
   ]
  },
  {
   "cell_type": "code",
   "execution_count": null,
   "id": "10",
   "metadata": {
    "tags": [
     "hide-input"
    ]
   },
   "outputs": [],
   "source": [
    "plt.plot(voltages, np.real(neff_vs_V) - np.real(neff_vs_V[0]))\n",
    "plt.title(f\"NA = {NA}, ND = {ND}, xpn = {xpn}, wavelength = {wavelength}\")\n",
    "plt.xlabel(\"Voltage / V\")\n",
    "plt.ylabel(\"Change in neff\")\n",
    "plt.show()"
   ]
  },
  {
   "cell_type": "code",
   "execution_count": null,
   "id": "11",
   "metadata": {
    "tags": [
     "hide-input"
    ]
   },
   "outputs": [],
   "source": [
    "plt.plot(voltages, k_to_alpha_dB(np.imag(neff_vs_V), wavelength))\n",
    "plt.title(f\"NA = {NA}, ND = {ND}, xpn = {xpn}, wavelength = {wavelength}\")\n",
    "plt.xlabel(\"Voltage / V\")\n",
    "plt.ylabel(\"absorption / dB/cm\")\n",
    "plt.show()"
   ]
  },
  {
   "cell_type": "markdown",
   "id": "12",
   "metadata": {},
   "source": [
    "## Bibliography\n",
    "\n",
    "```{bibliography}\n",
    ":style: unsrt\n",
    ":filter: docname in docnames\n",
    "```"
   ]
  }
 ],
 "metadata": {
  "jupytext": {
   "main_language": "python"
  },
  "kernelspec": {
   "display_name": "Python 3",
   "name": "python3"
  }
 },
 "nbformat": 4,
 "nbformat_minor": 5
}
