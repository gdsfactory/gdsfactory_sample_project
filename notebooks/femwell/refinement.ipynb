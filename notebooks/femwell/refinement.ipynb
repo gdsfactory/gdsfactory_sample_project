{
 "cells": [
  {
   "cell_type": "markdown",
   "id": "0",
   "metadata": {},
   "source": [
    "# Mesh refinement"
   ]
  },
  {
   "cell_type": "code",
   "execution_count": null,
   "id": "1",
   "metadata": {
    "tags": [
     "hide-input"
    ]
   },
   "outputs": [],
   "source": [
    "from collections import OrderedDict\n",
    "\n",
    "import numpy as np\n",
    "import shapely\n",
    "import shapely.affinity\n",
    "from femwell.maxwell.waveguide import compute_modes, eval_error_estimator\n",
    "from femwell.mesh import mesh_from_OrderedDict\n",
    "from skfem import Basis, ElementTriP0, adaptive_theta\n",
    "from skfem.io.meshio import from_meshio"
   ]
  },
  {
   "cell_type": "code",
   "execution_count": null,
   "id": "2",
   "metadata": {
    "lines_to_next_cell": 0
   },
   "outputs": [],
   "source": [
    "polygons_paper = OrderedDict(\n",
    "    left=shapely.LineString(((0, 0), (0, 1))),\n",
    "    right=shapely.LineString(((1, 0), (1, 1))),\n",
    "    top=shapely.LineString(((0, 1), (1, 1))),\n",
    "    core=shapely.box(0, 0, 0.5, 0.5),\n",
    "    clad=shapely.box(0, 0, 1, 1),\n",
    ")\n",
    "\n",
    "boundaries = [\n",
    "    [lambda x: x[0] == np.min(x[0]), lambda x: x[0] == np.max(x[0])],\n",
    "    [lambda x: x[0] == np.min(x[0]), lambda x: x[0] == np.max(x[0])],\n",
    "    [lambda x: x[0] == np.min(x[0]), lambda x: x[1] == np.max(x[1])],\n",
    "    [lambda x: x[0] == np.min(x[0]), lambda x: x[1] == np.max(x[1])],\n",
    "]\n",
    "\n",
    "epsilons_paper = [\n",
    "    {\"core\": 2.25, \"clad\": 1},\n",
    "    {\"core\": 8, \"clad\": 1},\n",
    "    {\"core\": 1, \"clad\": 2.25},\n",
    "    {\"core\": 1, \"clad\": 8},\n",
    "]\n",
    "\n",
    "neff_values_paper = [1.27627404, 2.65679692, 1.387926425, 2.761465320]\n",
    "num = 3\n",
    "\n",
    "mesh = from_meshio(\n",
    "    mesh_from_OrderedDict(\n",
    "        polygons_paper, {}, default_resolution_max=0.1, filename=\"mesh.msh\"\n",
    "    )\n",
    ")\n",
    "mesh.draw().show()"
   ]
  },
  {
   "cell_type": "code",
   "execution_count": null,
   "id": "3",
   "metadata": {
    "lines_to_next_cell": 0
   },
   "outputs": [],
   "source": [
    "for _i in range(16):\n",
    "    basis0 = Basis(mesh, ElementTriP0())\n",
    "    epsilon = basis0.zeros()\n",
    "    for subdomain, e in epsilons_paper[num].items():\n",
    "        epsilon[basis0.get_dofs(elements=subdomain)] = e\n",
    "\n",
    "    modes = compute_modes(\n",
    "        basis0,\n",
    "        epsilon,\n",
    "        wavelength=1.5,\n",
    "        num_modes=1,\n",
    "        order=1,\n",
    "        metallic_boundaries=boundaries[num],\n",
    "    )\n",
    "    modes[0].show(modes[0].E.real, direction=\"x\")\n",
    "    print(f\"Error: {modes[0].n_eff - neff_values_paper[num]:.5g}\")\n",
    "\n",
    "    mesh = mesh.refined(\n",
    "        adaptive_theta(eval_error_estimator(modes[0].basis, modes[0].E), theta=0.5)\n",
    "    )\n",
    "    mesh.draw().show()"
   ]
  },
  {
   "cell_type": "code",
   "execution_count": null,
   "id": "4",
   "metadata": {},
   "outputs": [],
   "source": []
  }
 ],
 "metadata": {
  "jupytext": {
   "custom_cell_magics": "kql",
   "formats": "py:percent,ipynb"
  },
  "kernelspec": {
   "display_name": "env_3.11",
   "language": "python",
   "name": "python3"
  }
 },
 "nbformat": 4,
 "nbformat_minor": 5
}
