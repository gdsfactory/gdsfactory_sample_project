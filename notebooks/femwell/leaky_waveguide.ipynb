{
 "cells": [
  {
   "cell_type": "markdown",
   "id": "0",
   "metadata": {},
   "source": [
    "# Coupling to the continuum"
   ]
  },
  {
   "cell_type": "code",
   "execution_count": null,
   "id": "1",
   "metadata": {
    "tags": [
     "remove-stderr",
     "hide-input"
    ]
   },
   "outputs": [],
   "source": [
    "from collections import OrderedDict\n",
    "\n",
    "import matplotlib.pyplot as plt\n",
    "import numpy as np\n",
    "import shapely\n",
    "import shapely.affinity\n",
    "from femwell.maxwell.waveguide import compute_modes\n",
    "from femwell.mesh import mesh_from_OrderedDict\n",
    "from femwell.visualization import plot_domains\n",
    "from shapely.ops import clip_by_rect\n",
    "from skfem import Basis, ElementDG, ElementTriP1\n",
    "from skfem.io.meshio import from_meshio"
   ]
  },
  {
   "cell_type": "markdown",
   "id": "2",
   "metadata": {},
   "source": [
    "Let's do a simple rectangular waveguide.\n",
    "Next to it we put a a slab of the same height and material, but wider,\n",
    "to which the field in the wavegudie couples.\n",
    "As we later add a PML to the simulation, this slab approximates an\n",
    "infinite wide wavegudie."
   ]
  },
  {
   "cell_type": "code",
   "execution_count": null,
   "id": "3",
   "metadata": {},
   "outputs": [],
   "source": [
    "wg_width = 1.3\n",
    "wg_thickness = 0.33\n",
    "gap_width = 0.3\n",
    "buffer = 5\n",
    "pml_offset = 0.5\n",
    "core = shapely.geometry.box(-wg_width / 2, 0, +wg_width / 2, wg_thickness)\n",
    "gap = shapely.geometry.box(wg_width / 2, 0, +wg_width / 2 + gap_width, wg_thickness)\n",
    "continuum = shapely.geometry.box(\n",
    "    wg_width / 2 + gap_width, 0, +wg_width / 2 + buffer, wg_thickness\n",
    ")\n",
    "env = core.buffer(5, resolution=8)\n",
    "\n",
    "polygons = OrderedDict(\n",
    "    core=core,\n",
    "    gap=gap,\n",
    "    continuum=continuum,\n",
    "    box=clip_by_rect(env, -np.inf, -np.inf, np.inf, 0),\n",
    "    clad=clip_by_rect(env, -np.inf, 0, np.inf, np.inf),\n",
    ")\n",
    "\n",
    "resolutions = dict(\n",
    "    core={\"resolution\": 0.05, \"distance\": 1},\n",
    "    gap={\"resolution\": 0.05, \"distance\": 1},\n",
    "    continuum={\"resolution\": 0.05, \"distance\": 1},\n",
    ")\n",
    "\n",
    "mesh = from_meshio(\n",
    "    mesh_from_OrderedDict(polygons, resolutions, default_resolution_max=0.5)\n",
    ")\n",
    "mesh.draw().show()\n",
    "\n",
    "plot_domains(mesh)\n",
    "plt.show()"
   ]
  },
  {
   "cell_type": "markdown",
   "id": "4",
   "metadata": {},
   "source": [
    "Now we define the epsilon!\n",
    "We add an PML on the right hand-side by adding an imaginary part to the epsilon."
   ]
  },
  {
   "cell_type": "code",
   "execution_count": null,
   "id": "5",
   "metadata": {},
   "outputs": [],
   "source": [
    "basis0 = Basis(mesh, ElementDG(ElementTriP1()))\n",
    "epsilon = basis0.zeros(dtype=complex)\n",
    "for subdomain, n in {\n",
    "    \"core\": 1.9963,\n",
    "    \"box\": 1.444,\n",
    "    \"gap\": 1.0,\n",
    "    \"continuum\": 1.9963,\n",
    "    \"clad\": 1,\n",
    "}.items():\n",
    "    epsilon[basis0.get_dofs(elements=subdomain)] = n**2\n",
    "epsilon += basis0.project(\n",
    "    lambda x: -1j * np.maximum(0, x[0] - (wg_width / 2 + gap_width + pml_offset)) ** 2,\n",
    "    dtype=complex,\n",
    ")\n",
    "fig, axs = plt.subplots(1, 2)\n",
    "for ax in axs:\n",
    "    ax.set_aspect(1)\n",
    "axs[0].set_title(r\"$\\Re\\epsilon$\")\n",
    "basis0.plot(epsilon.real, colorbar=True, ax=axs[0])\n",
    "axs[1].set_title(r\"$\\Im\\epsilon$\")\n",
    "basis0.plot(epsilon.imag, shading=\"gouraud\", colorbar=True, ax=axs[1])\n",
    "plt.show()"
   ]
  },
  {
   "cell_type": "markdown",
   "id": "6",
   "metadata": {},
   "source": [
    "Now let's calculate the mode of the wavegudie!\n",
    "We calculate the propagation loss from the imaginary part of the effective refractive index."
   ]
  },
  {
   "cell_type": "code",
   "execution_count": null,
   "id": "7",
   "metadata": {},
   "outputs": [],
   "source": [
    "wavelength = 1.55\n",
    "\n",
    "modes = compute_modes(basis0, epsilon, wavelength=wavelength, num_modes=1, order=1)\n",
    "for mode in modes:\n",
    "    print(\n",
    "        f\"Effective refractive index: {mode.n_eff:.12f}, \"\n",
    "        f\"Loss: {mode.calculate_propagation_loss(distance=1):4f} / dB/um\"\n",
    "    )\n",
    "    mode.plot(mode.E.real, colorbar=True, direction=\"x\")\n",
    "    plt.show()"
   ]
  },
  {
   "cell_type": "code",
   "execution_count": null,
   "id": "8",
   "metadata": {},
   "outputs": [],
   "source": []
  }
 ],
 "metadata": {
  "jupytext": {
   "custom_cell_magics": "kql"
  },
  "kernelspec": {
   "display_name": ".venv",
   "language": "python",
   "name": "python3"
  },
  "language_info": {
   "codemirror_mode": {
    "name": "ipython",
    "version": 3
   },
   "file_extension": ".py",
   "mimetype": "text/x-python",
   "name": "python",
   "nbconvert_exporter": "python",
   "pygments_lexer": "ipython3",
   "version": "3.12.9"
  }
 },
 "nbformat": 4,
 "nbformat_minor": 5
}
