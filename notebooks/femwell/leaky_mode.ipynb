{
 "cells": [
  {
   "cell_type": "markdown",
   "id": "0",
   "metadata": {},
   "source": [
    "# Leaky mode"
   ]
  },
  {
   "cell_type": "markdown",
   "id": "1",
   "metadata": {},
   "source": [
    "Reproducing one example of {cite}`Hu2009`"
   ]
  },
  {
   "cell_type": "code",
   "execution_count": null,
   "id": "2",
   "metadata": {
    "tags": [
     "remove-stderr",
     "hide-input"
    ]
   },
   "outputs": [],
   "source": [
    "from collections import OrderedDict\n",
    "\n",
    "import matplotlib.pyplot as plt\n",
    "import numpy as np\n",
    "from femwell.mesh import mesh_from_OrderedDict\n",
    "from femwell.mode_solver_2d_periodic import plot_periodic, solve_periodic\n",
    "from shapely import LineString, box\n",
    "from skfem import Basis, ElementDG, ElementTriP1\n",
    "from skfem.io import from_meshio"
   ]
  },
  {
   "cell_type": "code",
   "execution_count": null,
   "id": "3",
   "metadata": {},
   "outputs": [],
   "source": [
    "height = 5.76 / 2 + 5\n",
    "a = 0.010\n",
    "b = 0.78\n",
    "c = 0.2\n",
    "slab = 0.920 + 5\n",
    "pml = 3\n",
    "\n",
    "wavelength = 1\n",
    "k0 = 2 * np.pi / wavelength\n",
    "\n",
    "left = LineString([(0, y) for y in np.linspace(-height, height, 2)])\n",
    "right = LineString([(a, y) for y in np.linspace(-height, height, 2)])\n",
    "top = LineString([(x, height) for x in np.linspace(0, a, 2)])\n",
    "bottom = LineString([(x, -height) for x in np.linspace(0, a, 2)])\n",
    "\n",
    "background = box(0, -height, a, height)\n",
    "structure = box(0, -b / 2, a, b / 2)\n",
    "structure1 = box(0, height - slab, a, height)\n",
    "structure2 = box(0, -height + slab, a, -height)\n",
    "\n",
    "resolutions = {\n",
    "    \"structure\": {\"resolution\": 0.1, \"distance\": 0.1},\n",
    "    \"hole\": {\"resolution\": 0.1, \"distance\": 0.1},\n",
    "}\n",
    "\n",
    "mesh = from_meshio(\n",
    "    mesh_from_OrderedDict(\n",
    "        OrderedDict(\n",
    "            left=left,\n",
    "            right=right,\n",
    "            top=top,\n",
    "            bottom=bottom,\n",
    "            structure=structure,\n",
    "            structure1=structure1,\n",
    "            structure2=structure2,\n",
    "            background=background,\n",
    "        ),\n",
    "        resolutions=resolutions,\n",
    "        filename=\"mesh.msh\",\n",
    "        default_resolution_max=0.05,\n",
    "        periodic_lines=[(\"left\", \"right\")],\n",
    "    )\n",
    ")"
   ]
  },
  {
   "cell_type": "code",
   "execution_count": null,
   "id": "4",
   "metadata": {},
   "outputs": [],
   "source": [
    "basis_vec = Basis(mesh, ElementTriP1() * ElementTriP1())\n",
    "basis_epsilon_r = basis_vec.with_element(ElementDG(ElementTriP1()))\n",
    "\n",
    "epsilon_r = basis_epsilon_r.zeros(dtype=np.complex64) + 1.45\n",
    "epsilon_r[basis_epsilon_r.get_dofs(elements=\"background\")] = 1.39\n",
    "epsilon_r **= 2\n",
    "basis_epsilon_r.plot(np.real(epsilon_r), aspect=a, colorbar=True).show()\n",
    "\n",
    "epsilon_r += basis_epsilon_r.project(\n",
    "    lambda x: (0.5j) * (np.clip(np.abs(x[1]) - height + pml, 0, np.inf) / pml) ** 2,\n",
    "    dtype=np.complex64,\n",
    ")\n",
    "basis_epsilon_r.plot(np.imag(epsilon_r), aspect=a, colorbar=True).show()\n",
    "\n",
    "ks, basis_phi, phis = solve_periodic(basis_epsilon_r, epsilon_r, k0)\n",
    "\n",
    "for i, k in enumerate(ks):\n",
    "    if 0 < np.imag(k) < 0.002:\n",
    "        fig, ax = plt.subplots(1, 1, figsize=(10, 4))\n",
    "        plt.title(f\"{k}\")\n",
    "        plot_periodic(k, a, basis_phi, phis[..., i], 100, ax)\n",
    "        plt.show()"
   ]
  },
  {
   "cell_type": "markdown",
   "id": "5",
   "metadata": {},
   "source": [
    "## Bibliography\n",
    "\n",
    "```{bibliography}\n",
    ":style: unsrt\n",
    ":filter: docname in docnames\n",
    "```"
   ]
  },
  {
   "cell_type": "markdown",
   "id": "6",
   "metadata": {},
   "source": []
  }
 ],
 "metadata": {
  "jupytext": {
   "main_language": "python"
  },
  "kernelspec": {
   "display_name": ".venv",
   "language": "python",
   "name": "python3"
  },
  "language_info": {
   "codemirror_mode": {
    "name": "ipython",
    "version": 3
   },
   "file_extension": ".py",
   "mimetype": "text/x-python",
   "name": "python",
   "nbconvert_exporter": "python",
   "pygments_lexer": "ipython3",
   "version": "3.12.9"
  }
 },
 "nbformat": 4,
 "nbformat_minor": 5
}
