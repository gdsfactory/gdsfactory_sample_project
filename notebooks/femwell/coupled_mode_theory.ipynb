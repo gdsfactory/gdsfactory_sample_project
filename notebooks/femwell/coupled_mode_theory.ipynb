{
 "cells": [
  {
   "cell_type": "markdown",
   "id": "0",
   "metadata": {},
   "source": [
    "# Coupled mode theory"
   ]
  },
  {
   "cell_type": "markdown",
   "id": "1",
   "metadata": {},
   "source": [
    "```{caution}\n",
    "**This example is under construction, results are not yet all correct**\n",
    "```"
   ]
  },
  {
   "cell_type": "markdown",
   "id": "2",
   "metadata": {},
   "source": [
    "https://www.fiberoptics4sale.com/blogs/wave-optics/coupled-mode-theory\n",
    "https://www.fiberoptics4sale.com/blogs/wave-optics/two-mode-coupling"
   ]
  },
  {
   "cell_type": "code",
   "execution_count": null,
   "id": "3",
   "metadata": {
    "tags": [
     "hide-input"
    ]
   },
   "outputs": [],
   "source": [
    "from collections import OrderedDict\n",
    "from itertools import chain\n",
    "\n",
    "import matplotlib.pyplot as plt\n",
    "import numpy as np\n",
    "from femwell.maxwell.waveguide import compute_modes\n",
    "from femwell.mesh import mesh_from_OrderedDict\n",
    "from scipy.constants import epsilon_0, speed_of_light\n",
    "from scipy.integrate import solve_ivp\n",
    "from shapely.geometry import Polygon\n",
    "from skfem import Basis, ElementTriP0\n",
    "from skfem.io import from_meshio"
   ]
  },
  {
   "cell_type": "markdown",
   "id": "4",
   "metadata": {},
   "source": [
    "Let's set up the geometry!\n",
    "It's the cross-section of two parallel waveguides with different widths:"
   ]
  },
  {
   "cell_type": "code",
   "execution_count": null,
   "id": "5",
   "metadata": {
    "tags": [
     "remove-stderr",
     "hide-input"
    ]
   },
   "outputs": [],
   "source": [
    "w_sim = 4\n",
    "h_clad = 1\n",
    "h_box = 1\n",
    "w_core_1 = 0.45\n",
    "w_core_2 = 0.46\n",
    "gap = 0.4\n",
    "h_core = 0.22\n",
    "offset_heater = 2.2\n",
    "h_heater = 0.14\n",
    "w_heater = 2\n",
    "\n",
    "wavelength = 1.55\n",
    "k0 = 2 * np.pi / wavelength\n",
    "\n",
    "polygons = OrderedDict(\n",
    "    core_1=Polygon(\n",
    "        [\n",
    "            (-w_core_1 - gap / 2, 0),\n",
    "            (-w_core_1 - gap / 2, h_core),\n",
    "            (-gap / 2, h_core),\n",
    "            (-gap / 2, 0),\n",
    "        ]\n",
    "    ),\n",
    "    core_2=Polygon(\n",
    "        [\n",
    "            (w_core_2 + gap / 2, 0),\n",
    "            (w_core_2 + gap / 2, h_core),\n",
    "            (gap / 2, h_core),\n",
    "            (gap / 2, 0),\n",
    "        ]\n",
    "    ),\n",
    "    clad=Polygon(\n",
    "        [\n",
    "            (-w_sim / 2, 0),\n",
    "            (-w_sim / 2, h_clad),\n",
    "            (w_sim / 2, h_clad),\n",
    "            (w_sim / 2, 0),\n",
    "        ]\n",
    "    ),\n",
    "    box=Polygon(\n",
    "        [\n",
    "            (-w_sim / 2, 0),\n",
    "            (-w_sim / 2, -h_box),\n",
    "            (w_sim / 2, -h_box),\n",
    "            (w_sim / 2, 0),\n",
    "        ]\n",
    "    ),\n",
    ")\n",
    "\n",
    "resolutions = dict(\n",
    "    core_1={\"resolution\": 0.03, \"distance\": 1},\n",
    "    core_2={\"resolution\": 0.03, \"distance\": 1},\n",
    ")\n",
    "\n",
    "mesh = from_meshio(\n",
    "    mesh_from_OrderedDict(\n",
    "        polygons, resolutions, filename=\"mesh.msh\", default_resolution_max=0.2\n",
    "    )\n",
    ")\n",
    "mesh.draw().show()"
   ]
  },
  {
   "cell_type": "markdown",
   "id": "6",
   "metadata": {},
   "source": [
    "First we plot the symmetric and the asymmetric modes of the geometry with both waveguides:"
   ]
  },
  {
   "cell_type": "code",
   "execution_count": null,
   "id": "7",
   "metadata": {},
   "outputs": [],
   "source": [
    "basis0 = Basis(mesh, ElementTriP0(), intorder=4)\n",
    "\n",
    "epsilon = basis0.zeros() + 1.444**2\n",
    "epsilon[basis0.get_dofs(elements=(\"core_1\", \"core_2\"))] = 3.4777**2\n",
    "# basis0.plot(epsilon, colorbar=True).show()\n",
    "modes_both = compute_modes(basis0, epsilon, wavelength=wavelength, mu_r=1, num_modes=2)\n",
    "modes_both[0].show(modes_both[0].E.real, direction=\"x\")\n",
    "modes_both[1].show(modes_both[1].E.real, direction=\"x\")\n",
    "print(\n",
    "    \"Refractive index of symmetric and asymmetric mode:\",\n",
    "    modes_both[0].n_eff,\n",
    "    \", \",\n",
    "    modes_both[1].n_eff,\n",
    ")\n",
    "# https://www.fiberoptics4sale.com/blogs/wave-optics/directional-couplers\n",
    "print(\n",
    "    f\"Maximum power transfer after {np.pi / (2 * np.pi / wavelength * np.real(modes_both[0].n_eff - modes_both[1].n_eff))} um prop length\"\n",
    ")"
   ]
  },
  {
   "cell_type": "markdown",
   "id": "8",
   "metadata": {},
   "source": [
    "And then we plot the modes of each waveguide while setting the shape of the other one to oxide"
   ]
  },
  {
   "cell_type": "code",
   "execution_count": null,
   "id": "9",
   "metadata": {},
   "outputs": [],
   "source": [
    "epsilon = basis0.zeros() + 1.444**2\n",
    "epsilon[basis0.get_dofs(elements=\"core_1\")] = 3.4777**2\n",
    "# basis0.plot(epsilon, colorbar=True).show()\n",
    "modes_1 = compute_modes(basis0, epsilon, wavelength=wavelength, mu_r=1, num_modes=1)\n",
    "print(\"Effective refractive index of the mode of the first waveguide\", modes_1[0].n_eff)\n",
    "modes_1[0].show(modes_1[0].E.real, direction=\"x\")\n",
    "\n",
    "epsilon_2 = basis0.zeros() + 1.444**2\n",
    "epsilon_2[basis0.get_dofs(elements=\"core_2\")] = 3.4777**2\n",
    "# basis0.plot(epsilon_2, colorbar=True).show()\n",
    "modes_2 = compute_modes(basis0, epsilon_2, wavelength=wavelength, mu_r=1, num_modes=1)\n",
    "print(\n",
    "    \"Effective refractive index of the mode of the second waveguide\", modes_2[0].n_eff\n",
    ")\n",
    "modes_2[0].show(modes_2[0].E.real, direction=\"x\")"
   ]
  },
  {
   "cell_type": "code",
   "execution_count": null,
   "id": "10",
   "metadata": {},
   "outputs": [],
   "source": [
    "length = 200\n",
    "ts = np.linspace(0, length, 1000)"
   ]
  },
  {
   "cell_type": "code",
   "execution_count": null,
   "id": "11",
   "metadata": {},
   "outputs": [],
   "source": [
    "epsilons = [epsilon, epsilon_2]\n",
    "\n",
    "num_modes = len(modes_1) + len(modes_2)\n",
    "overlap_integrals = np.zeros((num_modes, num_modes), dtype=complex)\n",
    "for i, mode_i in enumerate(chain(modes_1, modes_2)):\n",
    "    for j, mode_j in enumerate(chain(modes_1, modes_2)):\n",
    "        overlap_integrals[i, j] = mode_i.calculate_overlap(mode_j)\n",
    "\n",
    "print(\"overlap\", overlap_integrals)\n",
    "# plt.imshow(np.abs(overlap_integrals))\n",
    "# plt.colorbar()\n",
    "# plt.show()\n",
    "\n",
    "coupling_coefficients = np.zeros((num_modes, num_modes), dtype=complex)\n",
    "for i, mode_i in enumerate(chain(modes_1, modes_2)):\n",
    "    for j, mode_j in enumerate(chain(modes_1, modes_2)):\n",
    "        coupling_coefficients[i, j] = (\n",
    "            k0\n",
    "            * speed_of_light\n",
    "            * epsilon_0\n",
    "            * mode_i.calculate_coupling_coefficient(\n",
    "                mode_j, epsilons[(j // len(modes_1) + 1) % 2] - 1.444**2\n",
    "            )\n",
    "            * 0.5\n",
    "        )\n",
    "\n",
    "\n",
    "print(coupling_coefficients)\n",
    "# plt.imshow(np.abs(coupling_coefficients))\n",
    "# plt.colorbar()\n",
    "# plt.show()\n",
    "\n",
    "kappas = np.array(\n",
    "    [\n",
    "        [\n",
    "            (\n",
    "                coupling_coefficients[i, j]\n",
    "                - overlap_integrals[i, (i + 1) % 2]\n",
    "                * coupling_coefficients[(i + 1) % 2, j]\n",
    "                / overlap_integrals[(i + 1) % 2, (i + 1) % 2]\n",
    "            )\n",
    "            / (\n",
    "                1\n",
    "                - overlap_integrals[0, 1]\n",
    "                * overlap_integrals[1, 0]\n",
    "                / (overlap_integrals[0, 0] * overlap_integrals[1, 1])\n",
    "            )\n",
    "            for i in range(2)\n",
    "        ]\n",
    "        for j in range(2)\n",
    "    ]\n",
    ")\n",
    "print(kappas)\n",
    "\n",
    "delta = 0.5 * (\n",
    "    np.real(modes_1[0].n_eff) * k0\n",
    "    + kappas[1, 1]\n",
    "    - (np.real(modes_2[0].n_eff) * k0 + kappas[0, 0])\n",
    ")\n",
    "print(delta, np.real(modes_1[0].n_eff) * k0, kappas[1, 1])\n",
    "\n",
    "beta_c = (kappas[0, 1] * kappas[1, 0] + delta**2) ** 0.5\n",
    "\n",
    "print(np.pi / (2 * beta_c))\n",
    "\n",
    "eta = np.abs(kappas[1, 0] ** 2 / beta_c**2) * np.sin(beta_c * 1e3)\n",
    "print(\"eta\", eta, np.abs(kappas[1, 0] ** 2 / beta_c**2))\n",
    "\n",
    "plt.plot(ts, 1 - np.abs(kappas[1, 0] ** 2 / beta_c**2 * np.sin(beta_c * ts) ** 2))\n",
    "plt.plot(ts, np.abs(kappas[1, 0] ** 2 / beta_c**2 * np.sin(beta_c * ts) ** 2))\n",
    "plt.show()"
   ]
  },
  {
   "cell_type": "markdown",
   "id": "12",
   "metadata": {
    "lines_to_next_cell": 2
   },
   "source": [
    "see http://home.iitj.ac.in/~k.r.hiremath/research/thesis.pdf , not yet finished"
   ]
  },
  {
   "cell_type": "code",
   "execution_count": null,
   "id": "13",
   "metadata": {},
   "outputs": [],
   "source": [
    "def fun(t, y):\n",
    "    phase_matrix = [\n",
    "        [\n",
    "            np.exp(2j * np.pi / wavelength * (mode_i.n_eff - mode_j.n_eff) * t)\n",
    "            for mode_j in chain(modes_1, modes_2)\n",
    "        ]\n",
    "        for mode_i in chain(modes_1, modes_2)\n",
    "    ]\n",
    "    matrix = (\n",
    "        np.linalg.inv(overlap_integrals * phase_matrix)\n",
    "        @ (coupling_coefficients * phase_matrix)\n",
    "        * -1j\n",
    "    )\n",
    "    return (matrix @ y).ravel()\n",
    "\n",
    "\n",
    "result = solve_ivp(fun, [0, length], np.array((1, 0), dtype=complex), t_eval=ts)\n",
    "ys = result.y.T\n",
    "\n",
    "plt.plot(ts, np.abs(np.array(ys)[:, 0]) ** 2, \"r\")\n",
    "plt.plot(ts, 1 - np.abs(np.array(ys)[:, 0]) ** 2, \"r\")\n",
    "# plt.plot(ts, np.array(ys).imag.reshape((-1,)+matrix.shape)@(1,0), 'g')\n",
    "plt.show()"
   ]
  },
  {
   "cell_type": "markdown",
   "id": "14",
   "metadata": {},
   "source": [
    "## two modes"
   ]
  },
  {
   "cell_type": "code",
   "execution_count": null,
   "id": "15",
   "metadata": {
    "lines_to_next_cell": 0
   },
   "outputs": [],
   "source": [
    "R = [np.abs(modes_1[0].calculate_overlap(mode_j) ** 2) for mode_j in modes_both]\n",
    "print(R)\n",
    "P = (\n",
    "    R[0] ** 2\n",
    "    + R[1] ** 2\n",
    "    + 2\n",
    "    * R[0]\n",
    "    * R[1]\n",
    "    * np.cos(2 * np.pi / wavelength * (modes_both[0].n_eff - modes_both[1].n_eff) * ts)\n",
    ")\n",
    "\n",
    "plt.plot(ts, P)\n",
    "plt.show()"
   ]
  },
  {
   "cell_type": "code",
   "execution_count": null,
   "id": "16",
   "metadata": {},
   "outputs": [],
   "source": [
    "plt.plot(ts, P)\n",
    "\n",
    "\n",
    "plt.plot(ts, 1 - np.abs(kappas[1, 0] ** 2 / beta_c**2) * np.sin(beta_c * ts) ** 2)\n",
    "\n",
    "plt.plot(ts, np.abs(np.array(ys)[:, 0]) ** 2, \"r\")\n",
    "plt.plot(ts, 1 - np.abs(np.array(ys)[:, 0]) ** 2, \"r\")\n",
    "# plt.plot(ts, np.array(ys).imag.reshape((-1,)+matrix.shape)@(1,0), 'g')\n",
    "plt.show()"
   ]
  },
  {
   "cell_type": "code",
   "execution_count": null,
   "id": "17",
   "metadata": {},
   "outputs": [],
   "source": []
  }
 ],
 "metadata": {
  "jupytext": {
   "custom_cell_magics": "kql",
   "formats": "py:percent,ipynb"
  },
  "kernelspec": {
   "display_name": "env_3.11",
   "language": "python",
   "name": "python3"
  }
 },
 "nbformat": 4,
 "nbformat_minor": 5
}
