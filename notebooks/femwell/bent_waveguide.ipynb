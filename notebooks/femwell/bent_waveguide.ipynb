{
 "cells": [
  {
   "cell_type": "markdown",
   "id": "0",
   "metadata": {},
   "source": [
    "# Bent waveguide losses\n",
    "This example uses an effective epsilon approximation for the bent, for more precise implementation see julia example."
   ]
  },
  {
   "cell_type": "code",
   "execution_count": null,
   "id": "1",
   "metadata": {
    "tags": [
     "hide-input"
    ]
   },
   "outputs": [],
   "source": [
    "from collections import OrderedDict\n",
    "\n",
    "import matplotlib.pyplot as plt\n",
    "import numpy as np\n",
    "from femwell.maxwell.waveguide import compute_modes\n",
    "from femwell.mesh import mesh_from_OrderedDict\n",
    "from shapely import box\n",
    "from shapely.ops import clip_by_rect\n",
    "from skfem import Basis, ElementDG, ElementTriP1\n",
    "from skfem.io.meshio import from_meshio\n",
    "from tqdm import tqdm"
   ]
  },
  {
   "cell_type": "markdown",
   "id": "2",
   "metadata": {},
   "source": [
    "We describe the geometry using shapely.\n",
    "In this case it's simple: we use a shapely.box for the waveguide.\n",
    "For the surrounding we buffer the core and clip it to the part below the waveguide for the box.\n",
    "The remaining buffer is used as the clad.\n",
    "For the core we set the resolution to 30nm and let it fall of over 500nm"
   ]
  },
  {
   "cell_type": "code",
   "execution_count": null,
   "id": "3",
   "metadata": {},
   "outputs": [],
   "source": [
    "wavelength = 1.55\n",
    "\n",
    "wg_width = 0.5\n",
    "wg_thickness = 0.22\n",
    "slab_thickness = 0.11\n",
    "\n",
    "core_index = 3.48\n",
    "slab_index = 3.48\n",
    "\n",
    "clad_index = 1.44\n",
    "box_index = 1.44\n",
    "\n",
    "pml_distance = wg_width / 2 + 2  # distance from center\n",
    "pml_thickness = 2\n",
    "core = box(-wg_width / 2, 0, wg_width / 2, wg_thickness)\n",
    "slab = box(-1 - wg_width / 2, 0, pml_distance + pml_thickness, slab_thickness)\n",
    "env = box(-1 - wg_width / 2, -1, pml_distance + pml_thickness, wg_thickness + 1)\n",
    "\n",
    "polygons = OrderedDict(\n",
    "    core=core,\n",
    "    slab=slab,\n",
    "    box=clip_by_rect(env, -np.inf, -np.inf, np.inf, 0),\n",
    "    clad=clip_by_rect(env, -np.inf, 0, np.inf, np.inf),\n",
    ")\n",
    "\n",
    "resolutions = dict(\n",
    "    core={\"resolution\": 0.03, \"distance\": 1}, slab={\"resolution\": 0.1, \"distance\": 0.5}\n",
    ")\n",
    "\n",
    "mesh = from_meshio(\n",
    "    mesh_from_OrderedDict(\n",
    "        polygons, resolutions, default_resolution_max=0.2, filename=\"mesh.msh\"\n",
    "    )\n",
    ")\n",
    "mesh.draw().show()"
   ]
  },
  {
   "cell_type": "markdown",
   "id": "4",
   "metadata": {},
   "source": [
    "On this mesh, we define the epsilon. We do this by setting domainwise the epsilon to the squared refractive index.\n",
    "We additionally add a PML layer bt adding a imaginary part to the epsilon"
   ]
  },
  {
   "cell_type": "code",
   "execution_count": null,
   "id": "5",
   "metadata": {},
   "outputs": [],
   "source": [
    "basis0 = Basis(mesh, ElementDG(ElementTriP1()))\n",
    "epsilon = basis0.zeros(dtype=complex)\n",
    "for subdomain, n in {\n",
    "    \"core\": core_index,\n",
    "    \"slab\": slab_index,\n",
    "    \"box\": box_index,\n",
    "    \"clad\": clad_index,\n",
    "}.items():\n",
    "    epsilon[basis0.get_dofs(elements=subdomain)] = n**2\n",
    "epsilon += basis0.project(\n",
    "    lambda x: -10j * np.maximum(0, x[0] - pml_distance) ** 2,\n",
    "    dtype=complex,\n",
    ")\n",
    "basis0.plot(epsilon.real, shading=\"gouraud\", colorbar=True).show()\n",
    "basis0.plot(epsilon.imag, shading=\"gouraud\", colorbar=True).show()"
   ]
  },
  {
   "cell_type": "markdown",
   "id": "6",
   "metadata": {},
   "source": [
    "We calculate now the modes for the geometry we just set up.\n",
    "We do it first for the case, where the bend-radius is infinite, i.e. a straight waveguide.\n",
    "This is done to have a reference effectie refractive index for starting\n",
    "and for mode overlap calculations between straight and bent waveguides."
   ]
  },
  {
   "cell_type": "code",
   "execution_count": null,
   "id": "7",
   "metadata": {},
   "outputs": [],
   "source": [
    "modes_straight = compute_modes(\n",
    "    basis0, epsilon, wavelength=wavelength, num_modes=1, order=2, radius=np.inf\n",
    ")"
   ]
  },
  {
   "cell_type": "markdown",
   "id": "8",
   "metadata": {},
   "source": [
    "Now we calculate the modes of bent waveguides with different radii.\n",
    "Subsequently, we calculate the overlap integrals between the modes to determine the coupling efficiency\n",
    "And determine from the imaginary part the bend loss."
   ]
  },
  {
   "cell_type": "code",
   "execution_count": null,
   "id": "9",
   "metadata": {
    "tags": [
     "remove-stderr"
    ]
   },
   "outputs": [],
   "source": [
    "radiuss = np.linspace(40, 5, 21)\n",
    "radiuss_lams = []\n",
    "overlaps = []\n",
    "lam_guess = modes_straight[0].n_eff\n",
    "for radius in tqdm(radiuss):\n",
    "    modes = compute_modes(\n",
    "        basis0,\n",
    "        epsilon,\n",
    "        wavelength=wavelength,\n",
    "        num_modes=1,\n",
    "        order=2,\n",
    "        radius=radius,\n",
    "        n_guess=lam_guess,\n",
    "        solver=\"scipy\",\n",
    "    )\n",
    "    lam_guess = modes[0].n_eff\n",
    "    radiuss_lams.append(modes[0].n_eff)\n",
    "\n",
    "    overlaps.append(modes_straight[0].calculate_overlap(modes[0]))"
   ]
  },
  {
   "cell_type": "markdown",
   "id": "10",
   "metadata": {},
   "source": [
    "And now we plot it!"
   ]
  },
  {
   "cell_type": "code",
   "execution_count": null,
   "id": "11",
   "metadata": {
    "tags": [
     "hide-input"
    ]
   },
   "outputs": [],
   "source": [
    "plt.xlabel(\"Radius / μm\")\n",
    "plt.ylabel(\"Mode overlap loss with straight waveguide mode / dB\")\n",
    "plt.yscale(\"log\")\n",
    "plt.plot(radiuss, -10 * np.log10(np.abs(overlaps) ** 2))\n",
    "plt.show()\n",
    "plt.xlabel(\"Radius / μm\")\n",
    "plt.ylabel(\"90-degree bend transmission / dB\")\n",
    "plt.yscale(\"log\")\n",
    "plt.plot(\n",
    "    radiuss,\n",
    "    -10\n",
    "    * np.log10(\n",
    "        np.exp(\n",
    "            -2 * np.pi / wavelength * radius * np.abs(np.imag(radiuss_lams)) * np.pi / 2\n",
    "        )\n",
    "    ),\n",
    ")\n",
    "plt.show()"
   ]
  },
  {
   "cell_type": "markdown",
   "id": "12",
   "metadata": {},
   "source": [
    "We now plot the mode calculated for the smallest bend radius to check that it's still within the waveguide.\n",
    "As modes can have complex fields as soon as the epsilon gets complex, so we get a complex field for each mode.\n",
    "Here we show only the real part of the mode."
   ]
  },
  {
   "cell_type": "code",
   "execution_count": null,
   "id": "13",
   "metadata": {
    "tags": [
     "hide-input"
    ]
   },
   "outputs": [],
   "source": [
    "for mode in modes:\n",
    "    print(f\"Effective refractive index: {mode.n_eff:.14f}\")\n",
    "    mode.plot(mode.E.real, colorbar=True, direction=\"x\")\n",
    "    plt.show()"
   ]
  }
 ],
 "metadata": {
  "jupytext": {
   "main_language": "python"
  },
  "kernelspec": {
   "display_name": ".venv",
   "language": "python",
   "name": "python3"
  },
  "language_info": {
   "codemirror_mode": {
    "name": "ipython",
    "version": 3
   },
   "file_extension": ".py",
   "mimetype": "text/x-python",
   "name": "python",
   "nbconvert_exporter": "python",
   "pygments_lexer": "ipython3",
   "version": "3.12.9"
  }
 },
 "nbformat": 4,
 "nbformat_minor": 5
}
