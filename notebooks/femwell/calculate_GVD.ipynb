{
 "cells": [
  {
   "cell_type": "markdown",
   "id": "0",
   "metadata": {
    "lines_to_next_cell": 2
   },
   "source": [
    "# Calculate GVD of waveguide\n",
    "\n",
    "Reproduce figure 2e from {cite}`Klenner2016`"
   ]
  },
  {
   "cell_type": "code",
   "execution_count": null,
   "id": "1",
   "metadata": {
    "tags": [
     "remove-stderr",
     "hide-input",
     "thebe-init"
    ]
   },
   "outputs": [],
   "source": [
    "import math\n",
    "from collections import OrderedDict\n",
    "\n",
    "import matplotlib.pyplot as plt\n",
    "import numpy as np\n",
    "import pandas as pd\n",
    "import shapely\n",
    "from femwell.maxwell.waveguide import compute_modes\n",
    "from femwell.mesh import mesh_from_OrderedDict\n",
    "from femwell.visualization import plot_domains\n",
    "from scipy.interpolate import UnivariateSpline\n",
    "from skfem import Basis, ElementTriP0\n",
    "from skfem.io import from_meshio\n",
    "from tqdm import tqdm"
   ]
  },
  {
   "cell_type": "markdown",
   "id": "2",
   "metadata": {
    "lines_to_next_cell": 0
   },
   "source": [
    "First, construct the geometry of waveguide according to figure 2d of the paper."
   ]
  },
  {
   "cell_type": "code",
   "execution_count": null,
   "id": "3",
   "metadata": {
    "lines_to_next_cell": 2
   },
   "outputs": [],
   "source": [
    "width = 0.88  # um\n",
    "height = 0.69  # um\n",
    "\n",
    "wavelength_range = [500, 2500]\n",
    "wavelegnth_step = 50\n",
    "\n",
    "# Construct waveguide geometry\n",
    "core = shapely.geometry.box(-width / 2, 0, +width / 2, height)\n",
    "cladding = shapely.geometry.box(-width * 2, 0, width * 2, height * 3)\n",
    "buried_oxide = shapely.geometry.box(-width * 2, -height * 2, width * 2, 0)\n",
    "polygon = OrderedDict(\n",
    "    core=core,\n",
    "    cladding=cladding,\n",
    "    buried_oxide=buried_oxide,\n",
    ")\n",
    "\n",
    "# Define material property and resolution of waveguide\n",
    "resolutions = dict(\n",
    "    core={\"resolution\": 0.02, \"distance\": 0.3},\n",
    "    cladding={\"resolution\": 0.05, \"distance\": 0.3},\n",
    "    buried_oxide={\"resolution\": 0.05, \"distance\": 0.3},\n",
    ")\n",
    "\n",
    "mesh = from_meshio(\n",
    "    mesh_from_OrderedDict(polygon, resolutions, default_resolution_max=2)\n",
    ")\n",
    "mesh.draw().show()\n",
    "plot_domains(mesh)\n",
    "plt.show()"
   ]
  },
  {
   "cell_type": "markdown",
   "id": "4",
   "metadata": {
    "lines_to_next_cell": 2
   },
   "source": [
    "Use sellmeier equation to determine the refractive index of material."
   ]
  },
  {
   "cell_type": "code",
   "execution_count": null,
   "id": "5",
   "metadata": {},
   "outputs": [],
   "source": [
    "def n_Si3N4(wavelength, fit=False):\n",
    "    if wavelength >= 0.31 and wavelength <= 5.507:\n",
    "        return math.sqrt(\n",
    "            (3.0249 * wavelength**2) / (wavelength**2 - 0.1353406**2)\n",
    "            + (40314 * wavelength**2) / (wavelength**2 - 1239.842**2)\n",
    "            + 1\n",
    "        )\n",
    "    else:\n",
    "        raise ValueError(\n",
    "            f\"wavelength provided is {wavelength}um, is out of the range for Si3N4\"\n",
    "        )\n",
    "\n",
    "\n",
    "def n_SiO2(wavelength):\n",
    "    if wavelength < 0.21 or wavelength > 6.7:\n",
    "        raise ValueError(\n",
    "            f\"wavelength provided is {wavelength}um, is out of the range for {type}\"\n",
    "        )\n",
    "    return np.sqrt(\n",
    "        0.6961663 * wavelength**2 / (wavelength**2 - 0.0684043**2)\n",
    "        + (0.4079426 * wavelength**2 / (wavelength**2 - 0.1162414**2))\n",
    "        + (0.8974794 * wavelength**2 / (wavelength**2 - 9.896161**2))\n",
    "        + 1\n",
    "    )\n",
    "\n",
    "\n",
    "n_dict = {\"core\": n_Si3N4, \"cladding\": n_SiO2, \"buried_oxide\": n_SiO2}"
   ]
  },
  {
   "cell_type": "markdown",
   "id": "6",
   "metadata": {
    "lines_to_next_cell": 0
   },
   "source": [
    "Create the mesh, and sweep wavelength using the same mesh. The target mode is te mode, so the mode is selected by highest te fraction"
   ]
  },
  {
   "cell_type": "code",
   "execution_count": null,
   "id": "7",
   "metadata": {
    "tags": [
     "remove-stderr"
    ]
   },
   "outputs": [],
   "source": [
    "neff_list = []\n",
    "aeff_list = []\n",
    "basis0 = Basis(mesh, ElementTriP0())\n",
    "epsilon = basis0.zeros()\n",
    "wavelength_list = np.linspace(wavelength_range[0], wavelength_range[1], wavelegnth_step)\n",
    "\n",
    "for wavelength in tqdm(wavelength_list):\n",
    "    wavelength = wavelength * 1e-3\n",
    "    for subdomain, n in n_dict.items():\n",
    "        epsilon[basis0.get_dofs(elements=subdomain)] = n(wavelength) ** 2\n",
    "\n",
    "    modes = compute_modes(basis0, epsilon, wavelength=wavelength, num_modes=3, order=1)\n",
    "    modes_sorted = modes.sorted(key=lambda mode: -np.real(mode.te_fraction))\n",
    "    mode = modes_sorted[0]\n",
    "\n",
    "    neff_list.append(np.real(mode.n_eff))\n",
    "    aeff_list.append(np.real(mode.calculate_effective_area()))"
   ]
  },
  {
   "cell_type": "markdown",
   "id": "8",
   "metadata": {
    "lines_to_next_cell": 0
   },
   "source": [
    "Calculate the GVD by fitting a curve for wavelength vs neff. Then take second derivative of the curve"
   ]
  },
  {
   "cell_type": "code",
   "execution_count": null,
   "id": "9",
   "metadata": {},
   "outputs": [],
   "source": [
    "y_spl = UnivariateSpline(wavelength_list, neff_list, s=0, k=3)\n",
    "x_range = np.linspace(wavelength_list[0], wavelength_list[-1], 1000)\n",
    "y_spl_2d = y_spl.derivative(n=2)\n",
    "\n",
    "# Plot the result\n",
    "fig, axs = plt.subplots(3, 1, figsize=(9, 20))\n",
    "\n",
    "axs[0].set_xlabel(\"Wavelength / nm\")\n",
    "axs[0].set_ylabel(\"neff\")\n",
    "axs[0].set_title(\" neff vs wavelength fit\")\n",
    "axs[0].semilogy(x_range, y_spl(x_range))\n",
    "axs[0].semilogy(wavelength_list, neff_list, \"ro\", label=\"data\")\n",
    "axs[0].legend()\n",
    "axs[0].set_xlim(500, 2200)\n",
    "\n",
    "axs[1].set_xlabel(\"Wavelength / nm\")\n",
    "axs[1].set_ylabel(\"neff''\")\n",
    "axs[1].set_title(\"wavelength vs second derivative of neff\")\n",
    "axs[1].plot(x_range, y_spl_2d(x_range))\n",
    "axs[1].set_xlim(500, 2200)\n",
    "\n",
    "# ----plot reference data-------\n",
    "ref_gvd = pd.read_csv(\"../reference_data/Klenner/GVD.csv\", dtype=np.float64)\n",
    "ref_gvd_x, ref_gvd_y = np.split(ref_gvd.values, 2, axis=1)\n",
    "axs[2].plot(ref_gvd_x, ref_gvd_y, c=\"green\", label=\"paper\")\n",
    "\n",
    "# ----Calculate and plot GVD\n",
    "GVD = -wavelength_list / (2.99792e-7) * y_spl_2d(wavelength_list)\n",
    "axs[2].scatter(wavelength_list, GVD, label=\"calculated\", c=\"red\")\n",
    "\n",
    "axs[2].set_ylabel(\"GVD\")\n",
    "axs[2].set_xlabel(\"Wavelength / nm\")\n",
    "axs[2].set_ylim(-1000, 200)\n",
    "axs[2].set_xlim(500, 2200)\n",
    "axs[2].set_title(\"GVD parameter\")\n",
    "axs[2].legend()\n",
    "\n",
    "plt.tight_layout()\n",
    "plt.show()"
   ]
  },
  {
   "cell_type": "markdown",
   "id": "10",
   "metadata": {},
   "source": [
    "## Bibliography\n",
    "\n",
    "```{bibliography}\n",
    ":style: unsrt\n",
    ":filter: docname in docnames\n",
    "```"
   ]
  },
  {
   "cell_type": "code",
   "execution_count": null,
   "id": "11",
   "metadata": {},
   "outputs": [],
   "source": []
  }
 ],
 "metadata": {
  "jupytext": {
   "main_language": "python"
  },
  "kernelspec": {
   "display_name": ".venv",
   "language": "python",
   "name": "python3"
  },
  "language_info": {
   "name": "python",
   "version": "3.12.9"
  }
 },
 "nbformat": 4,
 "nbformat_minor": 5
}
