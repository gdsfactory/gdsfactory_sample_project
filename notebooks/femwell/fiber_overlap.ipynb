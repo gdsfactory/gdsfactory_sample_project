{
 "cells": [
  {
   "cell_type": "markdown",
   "id": "0",
   "metadata": {},
   "source": [
    "# Overlap with the mode of an optical fiber"
   ]
  },
  {
   "cell_type": "code",
   "execution_count": null,
   "id": "1",
   "metadata": {
    "tags": [
     "hide-input"
    ]
   },
   "outputs": [],
   "source": [
    "from collections import OrderedDict\n",
    "\n",
    "import matplotlib.pyplot as plt\n",
    "import numpy as np\n",
    "from shapely import box\n",
    "from skfem import Basis, ElementTriP0, ElementTriP1\n",
    "from skfem.io import from_meshio\n",
    "from tqdm import tqdm\n",
    "\n",
    "from femwell.fiber import e_field_gaussian, overlap\n",
    "from femwell.maxwell.waveguide import compute_modes\n",
    "from femwell.mesh import mesh_from_OrderedDict"
   ]
  },
  {
   "cell_type": "markdown",
   "id": "2",
   "metadata": {},
   "source": [
    "In this case the geometry is super simple:\n",
    "We just define a small waveguide surrounded by silicon oxide.\n",
    "As we later want to calculate overlap integrals, we put the waveguide centered at 0,0.\n",
    "We don't need to simulate the whole fiber, just the are in which the field is non-zero."
   ]
  },
  {
   "cell_type": "code",
   "execution_count": null,
   "id": "3",
   "metadata": {},
   "outputs": [],
   "source": [
    "core = box(-0.1, -0.15, 0.1, 0.15)\n",
    "polygons = OrderedDict(core=core, clad=core.buffer(15, resolution=4))\n",
    "\n",
    "resolutions = dict(core={\"resolution\": 0.01, \"distance\": 0.1})\n",
    "mesh = from_meshio(\n",
    "    mesh_from_OrderedDict(polygons, resolutions, default_resolution_max=10)\n",
    ")\n",
    "mesh.draw().show()"
   ]
  },
  {
   "cell_type": "markdown",
   "id": "4",
   "metadata": {},
   "source": [
    "We choose as the core-material silicon nitride and for the cladding silicon dioxide.\n",
    "Accordingly, we set the refractive indices."
   ]
  },
  {
   "cell_type": "code",
   "execution_count": null,
   "id": "5",
   "metadata": {
    "tags": [
     "remove-stderr"
    ]
   },
   "outputs": [],
   "source": [
    "ncore = 1.9963\n",
    "nclad = 1.444\n",
    "\n",
    "basis0 = Basis(mesh, ElementTriP0(), intorder=4)\n",
    "epsilon = basis0.zeros().astype(complex)\n",
    "epsilon[basis0.get_dofs(elements=\"core\")] = ncore**2\n",
    "epsilon[basis0.get_dofs(elements=\"clad\")] = nclad**2\n",
    "# basis0.plot(np.real(epsilon), colorbar=True).show()"
   ]
  },
  {
   "cell_type": "markdown",
   "id": "6",
   "metadata": {},
   "source": [
    "Now we simulate the mode of the small waveguide!\n",
    "We don't use metallic boundary conditions,\n",
    "i.e. here a derivative of zero is enforced at the outer boundary of the simulation.\n",
    "Thus, we know, that we chose the cladding thick enough if the field vanishes at the outer boundaries."
   ]
  },
  {
   "cell_type": "code",
   "execution_count": null,
   "id": "7",
   "metadata": {},
   "outputs": [],
   "source": [
    "modes = compute_modes(basis0, epsilon, wavelength=1.55, mu_r=1, num_modes=1)\n",
    "\n",
    "fig, axs = modes[0].plot(modes[0].E.real, direction=\"x\")\n",
    "plt.tight_layout()\n",
    "plt.show()"
   ]
  },
  {
   "cell_type": "markdown",
   "id": "8",
   "metadata": {},
   "source": [
    "Now we sweep the mode-field-diameter of the fiber to see the dependence of the coupling on the MFD.\n",
    "As the waveguide is asymmetric, we get non-hybridized modes, i.e. either TE- or TM-modes.\n",
    "Thus, it's sufficient to calculate the overlap with the non-zero in-plane component."
   ]
  },
  {
   "cell_type": "code",
   "execution_count": null,
   "id": "9",
   "metadata": {
    "tags": [
     "remove-stderr"
    ]
   },
   "outputs": [],
   "source": [
    "mfds = np.linspace(2, 20, 100)\n",
    "efficiencies = []\n",
    "\n",
    "for mfd in tqdm(mfds):\n",
    "    basis_fiber = basis0.with_element(ElementTriP1())\n",
    "    x_fiber = basis_fiber.project(\n",
    "        lambda x: e_field_gaussian(np.sqrt(x[0] ** 2 + x[1] ** 2), 0, mfd / 2, 1, 1.55),\n",
    "        dtype=complex,\n",
    "    )\n",
    "\n",
    "    efficiency = overlap(\n",
    "        basis_fiber,\n",
    "        modes[0].basis.interpolate(modes[0].E)[0][1],\n",
    "        basis_fiber.interpolate(x_fiber),\n",
    "    )\n",
    "    efficiencies.append(efficiency)\n",
    "\n",
    "plt.plot(mfds, efficiencies)\n",
    "plt.xlabel(\"Mode field diameter / um\")\n",
    "plt.ylabel(\"Coupling efficiency\")\n",
    "plt.show()"
   ]
  }
 ],
 "metadata": {
  "jupytext": {
   "main_language": "python"
  },
  "kernelspec": {
   "display_name": "Python 3",
   "name": "python3"
  }
 },
 "nbformat": 4,
 "nbformat_minor": 5
}
