{
 "cells": [
  {
   "cell_type": "markdown",
   "id": "0",
   "metadata": {},
   "source": [
    "# Selecting modes in the mode solver\n",
    "\n",
    "Sometimes we have structures where the mode of interest is\n",
    "not the mode with the highest effective index. There are a few\n",
    "ways to select modes of interest in femwell"
   ]
  },
  {
   "cell_type": "code",
   "execution_count": null,
   "id": "1",
   "metadata": {
    "tags": [
     "hide-input"
    ]
   },
   "outputs": [],
   "source": [
    "from collections import OrderedDict\n",
    "\n",
    "import numpy as np\n",
    "from femwell.maxwell.waveguide import compute_modes\n",
    "from femwell.mesh import mesh_from_OrderedDict\n",
    "from femwell.utils import inside_bbox\n",
    "from shapely.geometry import Polygon\n",
    "from skfem import Basis, ElementTriP0\n",
    "from skfem.io import from_meshio"
   ]
  },
  {
   "cell_type": "markdown",
   "id": "2",
   "metadata": {
    "lines_to_next_cell": 2
   },
   "source": [
    "\n",
    "We will use as an example a system with a Si and a SiN sections.\n",
    "This could happen, for example, in a system where we are trying\n",
    "to heat a SiN waveguide with a Si resistor"
   ]
  },
  {
   "cell_type": "code",
   "execution_count": null,
   "id": "3",
   "metadata": {
    "tags": [
     "remove-stderr",
     "hide-input"
    ]
   },
   "outputs": [],
   "source": [
    "w_sim = 6\n",
    "h_clad = 2\n",
    "h_box = 2\n",
    "w_sin = 1\n",
    "w_si = 0.4\n",
    "gap = 1.0\n",
    "h_sin = 0.4\n",
    "h_si = 0.22\n",
    "\n",
    "wavelength = 1.55\n",
    "k0 = 2 * np.pi / wavelength\n",
    "\n",
    "polygons = OrderedDict(\n",
    "    sin=Polygon(\n",
    "        [\n",
    "            (-w_sin - gap / 2, 0),\n",
    "            (-w_sin - gap / 2, h_sin),\n",
    "            (-gap / 2, h_sin),\n",
    "            (-gap / 2, 0),\n",
    "        ]\n",
    "    ),\n",
    "    si=Polygon(\n",
    "        [\n",
    "            (w_si + gap / 2, 0),\n",
    "            (w_si + gap / 2, h_si),\n",
    "            (gap / 2, h_si),\n",
    "            (gap / 2, 0),\n",
    "        ]\n",
    "    ),\n",
    "    clad=Polygon(\n",
    "        [\n",
    "            (-w_sim / 2, 0),\n",
    "            (-w_sim / 2, h_clad),\n",
    "            (w_sim / 2, h_clad),\n",
    "            (w_sim / 2, 0),\n",
    "        ]\n",
    "    ),\n",
    "    box=Polygon(\n",
    "        [\n",
    "            (-w_sim / 2, 0),\n",
    "            (-w_sim / 2, -h_box),\n",
    "            (w_sim / 2, -h_box),\n",
    "            (w_sim / 2, 0),\n",
    "        ]\n",
    "    ),\n",
    ")\n",
    "\n",
    "resolutions = dict(\n",
    "    sin={\"resolution\": 0.03, \"distance\": 1},\n",
    "    si={\"resolution\": 0.03, \"distance\": 1},\n",
    ")\n",
    "\n",
    "mesh = from_meshio(\n",
    "    mesh_from_OrderedDict(\n",
    "        polygons, resolutions, filename=\"mesh.msh\", default_resolution_max=0.2\n",
    "    )\n",
    ")\n",
    "mesh.draw().show()"
   ]
  },
  {
   "cell_type": "code",
   "execution_count": null,
   "id": "4",
   "metadata": {
    "lines_to_next_cell": 2
   },
   "outputs": [],
   "source": [
    "basis0 = Basis(mesh, ElementTriP0(), intorder=4)\n",
    "\n",
    "epsilon = basis0.zeros() + 1.444**2\n",
    "epsilon[basis0.get_dofs(elements=(\"si\"))] = 3.4777**2\n",
    "epsilon[basis0.get_dofs(elements=(\"sin\"))] = 1.973**2"
   ]
  },
  {
   "cell_type": "markdown",
   "id": "5",
   "metadata": {},
   "source": [
    "\n",
    "## 0. Directly using femwell\n",
    "\n",
    "If we use `find_modes`, these are the modes we get:"
   ]
  },
  {
   "cell_type": "code",
   "execution_count": null,
   "id": "6",
   "metadata": {},
   "outputs": [],
   "source": [
    "# basis0.plot(epsilon, colorbar=True).show()\n",
    "modes = compute_modes(basis0, epsilon, wavelength=wavelength, num_modes=4)\n",
    "\n",
    "for mode in modes:\n",
    "    mode.show(\"E\", part=\"real\")\n",
    "\n",
    "print(f\"The effective index of the SiN mode is {np.real(modes[2].n_eff)}\")"
   ]
  },
  {
   "cell_type": "markdown",
   "id": "7",
   "metadata": {},
   "source": [
    "\n",
    "We can see how to get the SiN mode (which is the mode of\n",
    "interest for us) we need to go to the third mode found by femwell.\n",
    "\n",
    "Are there easier ways to get the SiN modes? Yes!"
   ]
  },
  {
   "cell_type": "markdown",
   "id": "8",
   "metadata": {},
   "source": [
    "\n",
    "## 1. Hack (not 100% accurate): Erasing the Si waveguide\n",
    "\n",
    "One thing we can do to find the SiN mode is to \"erase\" the Si\n",
    "waveguide, or in other words assign the refractive index of SiO2\n",
    "to the Si waveguide.\n",
    "\n",
    "Of course, this is in general not desired, because this way we are\n",
    "missing the effect of the presence of the Si waveguide.\n",
    "\n",
    "thi smight not be an issue in this example but there's many\n",
    "examples where this is not an acceptable option."
   ]
  },
  {
   "cell_type": "code",
   "execution_count": null,
   "id": "9",
   "metadata": {},
   "outputs": [],
   "source": [
    "epsilon = basis0.zeros() + 1.444**2\n",
    "epsilon[basis0.get_dofs(elements=(\"si\"))] = 1.444**2\n",
    "epsilon[basis0.get_dofs(elements=(\"sin\"))] = 1.973**2\n",
    "\n",
    "modes = compute_modes(basis0, epsilon, wavelength=wavelength, num_modes=2)\n",
    "\n",
    "for mode in modes:\n",
    "    mode.show(\"E\", part=\"real\")\n",
    "\n",
    "print(f\"The effective index of the SiN mode is {np.real(modes[0].n_eff)}\")"
   ]
  },
  {
   "cell_type": "markdown",
   "id": "10",
   "metadata": {},
   "source": [
    "## 2. Giving a guess effective index\n",
    "\n",
    "We can use the `n_guess` parameter to `compute_modes` to\n",
    "select modes close to that effective index.\n",
    "\n",
    "This is great, but of course we need to know what's that guess\n",
    "effective index. The way to do that would be to use option 1 above\n",
    "and then use that as the n_guess."
   ]
  },
  {
   "cell_type": "code",
   "execution_count": null,
   "id": "11",
   "metadata": {},
   "outputs": [],
   "source": [
    "epsilon = basis0.zeros() + 1.444**2\n",
    "epsilon[basis0.get_dofs(elements=(\"si\"))] = 3.4777**2\n",
    "epsilon[basis0.get_dofs(elements=(\"sin\"))] = 1.973**2\n",
    "\n",
    "modes = compute_modes(basis0, epsilon, wavelength=wavelength, num_modes=2, n_guess=1.62)\n",
    "\n",
    "for mode in modes:\n",
    "    mode.show(\"E\", part=\"real\")\n",
    "\n",
    "print(f\"The effective index of the SiN mode is {np.real(modes[1].n_eff)}\")"
   ]
  },
  {
   "cell_type": "markdown",
   "id": "12",
   "metadata": {},
   "source": [
    "\n",
    "You can see how using `n_guess` can still give the wrong mode!"
   ]
  },
  {
   "cell_type": "markdown",
   "id": "13",
   "metadata": {},
   "source": [
    "\n",
    "## 3. Using `argsort_modes_by_power_in_elements`\n",
    "\n",
    "This allows to choose a mode that has the biggest overlap with\n",
    "a given structure.\n",
    "\n",
    "There are two main ways to specify the structure:\n",
    "1. Using the name of the polygon of interest\n",
    "2. Giving a square bounding box of coordinates\n",
    "\n",
    "You can also give it directly the selection_basis of the\n",
    "are of interest.\n",
    "\n",
    "A requirement for using `argsort_modes_by_power_in_elements` is to\n",
    "calculate the H field of the found modes."
   ]
  },
  {
   "cell_type": "code",
   "execution_count": null,
   "id": "14",
   "metadata": {},
   "outputs": [],
   "source": [
    "modes = compute_modes(basis0, epsilon, wavelength=wavelength, num_modes=4)\n",
    "\n",
    "# Option 1: using an element name\n",
    "\n",
    "modes_sorted = modes.sorted(key=lambda mode: -mode.calculate_power(elements=\"sin\").real)\n",
    "\n",
    "modes_sorted[0].show(modes_sorted[0].E.real, direction=\"x\")\n",
    "\n",
    "# Option 2: using bounding box\n",
    "\n",
    "# Format: [xmin, ymin, xmax, ymax]\n",
    "bbox = [-2, 0, 0, 0.4]\n",
    "\n",
    "elements = inside_bbox(bbox)\n",
    "modes_sorted = modes.sorted(\n",
    "    key=lambda mode: -mode.calculate_power(elements=elements).real\n",
    ")\n",
    "modes_sorted[0].show(modes_sorted[0].E.real, direction=\"x\")"
   ]
  },
  {
   "cell_type": "code",
   "execution_count": null,
   "id": "15",
   "metadata": {},
   "outputs": [],
   "source": []
  }
 ],
 "metadata": {
  "jupytext": {
   "custom_cell_magics": "kql",
   "formats": "py:percent,ipynb"
  },
  "kernelspec": {
   "display_name": "env_3.11",
   "language": "python",
   "name": "python3"
  }
 },
 "nbformat": 4,
 "nbformat_minor": 5
}
