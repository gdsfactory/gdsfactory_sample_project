{
 "cells": [
  {
   "cell_type": "markdown",
   "id": "0",
   "metadata": {},
   "source": [
    "# Bragg filter"
   ]
  },
  {
   "cell_type": "markdown",
   "id": "1",
   "metadata": {},
   "source": [
    "Reproducing an example of {cite}`Notaros2015` (and soon {cite}`Fietz2011`)"
   ]
  },
  {
   "cell_type": "code",
   "execution_count": null,
   "id": "2",
   "metadata": {
    "tags": [
     "hide-input"
    ]
   },
   "outputs": [],
   "source": [
    "from collections import OrderedDict\n",
    "\n",
    "import matplotlib.pyplot as plt\n",
    "import numpy as np\n",
    "import shapely\n",
    "from skfem import Basis, ElementTriP0\n",
    "from skfem.io import from_meshio\n",
    "\n",
    "from femwell.mesh import mesh_from_OrderedDict\n",
    "from femwell.mode_solver_2d_periodic import plot_periodic, solve_periodic"
   ]
  },
  {
   "cell_type": "code",
   "execution_count": null,
   "id": "3",
   "metadata": {
    "lines_to_next_cell": 2,
    "tags": [
     "remove-stderr"
    ]
   },
   "outputs": [],
   "source": [
    "height = 1\n",
    "a = 0.330\n",
    "b = 0.7\n",
    "c = 0.2\n",
    "\n",
    "k0 = 0.7 / a  # 1.05/a\n",
    "\n",
    "left = shapely.LineString([(0, y) for y in np.linspace(-height, height, 20)])\n",
    "right = shapely.LineString([(a, y) for y in np.linspace(-height, height, 20)])\n",
    "top = shapely.LineString([(x, height) for x in np.linspace(0, a, 2)])\n",
    "bottom = shapely.LineString([(x, -height) for x in np.linspace(0, a, 2)])\n",
    "\n",
    "box = shapely.box(0, -height, a, height)\n",
    "structure = shapely.box(0, -b / 2, a, b / 2)\n",
    "hole = shapely.box(a / 4, -c / 2, a / 4 * 3, c / 2)\n",
    "\n",
    "resolutions = {\"hole\": {\"resolution\": 0.1, \"distance\": 1}}\n",
    "\n",
    "mesh = from_meshio(\n",
    "    mesh_from_OrderedDict(\n",
    "        OrderedDict(\n",
    "            left=left,\n",
    "            right=right,\n",
    "            top=top,\n",
    "            bottom=bottom,\n",
    "            hole=hole,\n",
    "            structure=structure,\n",
    "            box=box,\n",
    "        ),\n",
    "        resolutions=resolutions,\n",
    "        filename=\"mesh.msh\",\n",
    "        default_resolution_max=0.05,\n",
    "        periodic_lines=[(\"left\", \"right\")],\n",
    "    )\n",
    ")\n",
    "\n",
    "basis_epsilon_r = Basis(mesh, ElementTriP0(), intorder=4)\n",
    "\n",
    "epsilon_r = basis_epsilon_r.zeros(dtype=np.complex64) + 1.45\n",
    "epsilon_r[basis_epsilon_r.get_dofs(elements=\"structure\")] = 3.5\n",
    "epsilon_r **= 2\n",
    "basis_epsilon_r.plot(np.real(epsilon_r), ax=mesh.draw(), colorbar=True).show()\n",
    "\n",
    "ks, basis_phi, phis = solve_periodic(basis_epsilon_r, epsilon_r, k0)\n",
    "\n",
    "\n",
    "idx = np.abs(np.imag(ks * a)) < 0.5\n",
    "ks = ks[idx]\n",
    "phis = phis[:, idx]\n",
    "\n",
    "# print(ks)\n",
    "\n",
    "# plt.plot(np.real(ks))\n",
    "# plt.plot(np.imag(ks))\n",
    "# plt.show()\n",
    "\n",
    "for i, k in enumerate(ks):\n",
    "    fig, axs = plt.subplots(\n",
    "        1, 2, figsize=(13, 5), gridspec_kw={\"width_ratios\": [1, 10]}\n",
    "    )\n",
    "    mesh.draw(ax=axs[0], boundaries=True, boundaries_only=True)\n",
    "    basis_phi.plot(np.real(phis[..., i]), shading=\"gouraud\", colorbar=True, ax=axs[0])\n",
    "    axs[0].set_aspect(1)\n",
    "    plt.title(f\"{k*a}\")\n",
    "    # axs[0].set_aspect(1)\n",
    "    plot_periodic(k, a, basis_phi, phis[..., i], 10, axs[1])\n",
    "    plt.show()"
   ]
  },
  {
   "cell_type": "markdown",
   "id": "4",
   "metadata": {},
   "source": [
    "## Bibliography\n",
    "\n",
    "```{bibliography}\n",
    ":style: unsrt\n",
    ":filter: docname in docnames\n",
    "```"
   ]
  }
 ],
 "metadata": {
  "jupytext": {
   "main_language": "python"
  },
  "kernelspec": {
   "display_name": "Python 3",
   "name": "python3"
  }
 },
 "nbformat": 4,
 "nbformat_minor": 5
}
