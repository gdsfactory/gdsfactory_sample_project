{
 "cells": [
  {
   "cell_type": "markdown",
   "id": "0",
   "metadata": {},
   "source": [
    "# Optical waveguide modes"
   ]
  },
  {
   "cell_type": "code",
   "execution_count": null,
   "id": "1",
   "metadata": {
    "tags": [
     "remove-stderr",
     "hide-input",
     "thebe-init"
    ]
   },
   "outputs": [],
   "source": [
    "from collections import OrderedDict\n",
    "\n",
    "import matplotlib.pyplot as plt\n",
    "import numpy as np\n",
    "import shapely\n",
    "import shapely.affinity\n",
    "from femwell.maxwell.waveguide import compute_modes\n",
    "from femwell.mesh import mesh_from_OrderedDict\n",
    "from femwell.visualization import plot_domains\n",
    "from shapely.ops import clip_by_rect\n",
    "from skfem import Basis, ElementTriP0\n",
    "from skfem.io.meshio import from_meshio"
   ]
  },
  {
   "cell_type": "markdown",
   "id": "2",
   "metadata": {},
   "source": [
    "We describe the geometry using shapely.\n",
    "In this case it's simple: we use a shapely.box for the waveguide.\n",
    "For the surrounding we buffer the core and clip it to the part below the waveguide for the box.\n",
    "The remaining buffer is used as the clad.\n",
    "For the core we set the resolution to 30nm and let it fall of over 500nm"
   ]
  },
  {
   "cell_type": "code",
   "execution_count": null,
   "id": "3",
   "metadata": {},
   "outputs": [],
   "source": [
    "wg_width = 2.5\n",
    "wg_thickness = 0.3\n",
    "core = shapely.geometry.box(-wg_width / 2, 0, +wg_width / 2, wg_thickness)\n",
    "env = shapely.affinity.scale(core.buffer(5, resolution=8), xfact=0.5)\n",
    "\n",
    "polygons = OrderedDict(\n",
    "    core=core,\n",
    "    box=clip_by_rect(env, -np.inf, -np.inf, np.inf, 0),\n",
    "    clad=clip_by_rect(env, -np.inf, 0, np.inf, np.inf),\n",
    ")\n",
    "\n",
    "resolutions = dict(core={\"resolution\": 0.03, \"distance\": 0.5})\n",
    "\n",
    "mesh = from_meshio(\n",
    "    mesh_from_OrderedDict(polygons, resolutions, default_resolution_max=10)\n",
    ")\n",
    "mesh.draw().show()"
   ]
  },
  {
   "cell_type": "markdown",
   "id": "4",
   "metadata": {},
   "source": [
    "Let's also plot the domains"
   ]
  },
  {
   "cell_type": "code",
   "execution_count": null,
   "id": "5",
   "metadata": {},
   "outputs": [],
   "source": [
    "plot_domains(mesh)\n",
    "plt.show()"
   ]
  },
  {
   "cell_type": "markdown",
   "id": "6",
   "metadata": {},
   "source": [
    "On this mesh, we define the epsilon. We do this by setting domainwise the epsilon to the squared refractive index."
   ]
  },
  {
   "cell_type": "code",
   "execution_count": null,
   "id": "7",
   "metadata": {},
   "outputs": [],
   "source": [
    "ncore = 1.9963\n",
    "nclad = 1.444\n",
    "nbox = 1.444\n",
    "\n",
    "basis0 = Basis(mesh, ElementTriP0())\n",
    "epsilon = basis0.zeros()\n",
    "for subdomain, n in {\"core\": ncore, \"box\": nbox, \"clad\": nclad}.items():\n",
    "    epsilon[basis0.get_dofs(elements=subdomain)] = n**2\n",
    "basis0.plot(epsilon, colorbar=True).show()"
   ]
  },
  {
   "cell_type": "markdown",
   "id": "8",
   "metadata": {},
   "source": [
    "And now we call `compute_modes` to calculate the modes of the waveguide we set up.\n",
    "As modes can have complex fields as soon as the epsilon gets complex, so we get a complex field for each mode.\n",
    "Here we show only the real part of the mode."
   ]
  },
  {
   "cell_type": "code",
   "execution_count": null,
   "id": "9",
   "metadata": {
    "lines_to_next_cell": 2
   },
   "outputs": [],
   "source": [
    "wavelength = 1.55\n",
    "\n",
    "modes = compute_modes(basis0, epsilon, wavelength=wavelength, num_modes=2, order=2)\n",
    "for mode in modes:\n",
    "    print(f\"Effective refractive index: {mode.n_eff:.4f}\")\n",
    "    mode.show(\"E\", part=\"real\", colorbar=True)\n",
    "    mode.show(\"E\", part=\"imag\", colorbar=True)"
   ]
  },
  {
   "cell_type": "markdown",
   "id": "10",
   "metadata": {},
   "source": [
    "The intensity can be plotted directly from the mode object\n",
    "+"
   ]
  },
  {
   "cell_type": "code",
   "execution_count": null,
   "id": "11",
   "metadata": {},
   "outputs": [],
   "source": [
    "modes[0].show(\"I\", colorbar=True)"
   ]
  },
  {
   "cell_type": "markdown",
   "id": "12",
   "metadata": {},
   "source": [
    "-"
   ]
  },
  {
   "cell_type": "markdown",
   "id": "13",
   "metadata": {},
   "source": [
    "Now, let's calculate with the modes:\n",
    "What percentage of the mode is within the core for the calculated modes?"
   ]
  },
  {
   "cell_type": "code",
   "execution_count": null,
   "id": "14",
   "metadata": {},
   "outputs": [],
   "source": [
    "powers_in_waveguide = []\n",
    "confinement_factors_waveguide = []\n",
    "\n",
    "for mode in modes:\n",
    "    powers_in_waveguide.append(mode.calculate_power(elements=\"core\"))\n",
    "    confinement_factors_waveguide.append(\n",
    "        mode.calculate_confinement_factor(elements=\"core\")\n",
    "    )\n",
    "print(powers_in_waveguide)\n",
    "print(confinement_factors_waveguide)"
   ]
  }
 ],
 "metadata": {
  "jupytext": {
   "main_language": "python"
  },
  "kernelspec": {
   "display_name": ".venv",
   "language": "python",
   "name": "python3"
  },
  "language_info": {
   "codemirror_mode": {
    "name": "ipython",
    "version": 3
   },
   "file_extension": ".py",
   "mimetype": "text/x-python",
   "name": "python",
   "nbconvert_exporter": "python",
   "pygments_lexer": "ipython3",
   "version": "3.12.9"
  }
 },
 "nbformat": 4,
 "nbformat_minor": 5
}
