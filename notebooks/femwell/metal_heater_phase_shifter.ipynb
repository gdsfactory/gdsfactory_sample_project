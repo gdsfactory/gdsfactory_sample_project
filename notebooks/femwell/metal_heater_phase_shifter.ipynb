{
 "cells": [
  {
   "cell_type": "markdown",
   "id": "0",
   "metadata": {},
   "source": [
    "# TiN TOPS heater"
   ]
  },
  {
   "cell_type": "code",
   "execution_count": null,
   "id": "1",
   "metadata": {
    "tags": [
     "hide-input"
    ]
   },
   "outputs": [],
   "source": [
    "from collections import OrderedDict\n",
    "\n",
    "import matplotlib.pyplot as plt\n",
    "import numpy as np\n",
    "from shapely.geometry import LineString, Polygon\n",
    "from skfem import Basis, ElementTriP0\n",
    "from skfem.io import from_meshio\n",
    "from tqdm import tqdm\n",
    "\n",
    "from femwell.maxwell.waveguide import compute_modes\n",
    "from femwell.mesh import mesh_from_OrderedDict\n",
    "from femwell.thermal import solve_thermal"
   ]
  },
  {
   "cell_type": "markdown",
   "id": "2",
   "metadata": {},
   "source": [
    "In this example we'll show how to calculate the efficiency of a thermal phase shifter based on calculating the temperature distribution on a 2D plane.\n",
    "I.e. we make the approximation, that the thermal phase shifter is quite long, so that boundary effects will play a negligible role.\n",
    "\n",
    "We'll reproduce the TiN TOPS heater presented in {cite}`Jacques2019`.\n",
    "First we set up the mesh:\n",
    "\n",
    "It consists of a substrate, with a box layer on top.\n",
    "On the box layer, a waveguide is structured. In this example it's a silicon waveguide, which has a quite high thermal optical coefficient.\n",
    "\n",
    "Above the waveguide, within the deposited cladding layer, a TiN resistor is placed for heating up the thermal phase shifter.\n",
    "We refine the mesh within the region of most intered (for very precise results, of course an even finer mesh is required)."
   ]
  },
  {
   "cell_type": "code",
   "execution_count": null,
   "id": "3",
   "metadata": {
    "tags": [
     "remove-stderr"
    ]
   },
   "outputs": [],
   "source": [
    "w_sim = 8 * 2\n",
    "h_clad = 2.8\n",
    "h_box = 2\n",
    "w_core = 0.5\n",
    "h_core = 0.22\n",
    "h_heater = 0.14\n",
    "w_heater = 2\n",
    "offset_heater = 2 + (h_core + h_heater) / 2\n",
    "h_silicon = 0.5\n",
    "\n",
    "polygons = OrderedDict(\n",
    "    bottom=LineString(\n",
    "        [\n",
    "            (-w_sim / 2, -h_core / 2 - h_box - h_silicon),\n",
    "            (w_sim / 2, -h_core / 2 - h_box - h_silicon),\n",
    "        ]\n",
    "    ),\n",
    "    core=Polygon(\n",
    "        [\n",
    "            (-w_core / 2, -h_core / 2),\n",
    "            (-w_core / 2, h_core / 2),\n",
    "            (w_core / 2, h_core / 2),\n",
    "            (w_core / 2, -h_core / 2),\n",
    "        ]\n",
    "    ),\n",
    "    heater=Polygon(\n",
    "        [\n",
    "            (-w_heater / 2, -h_heater / 2 + offset_heater),\n",
    "            (-w_heater / 2, h_heater / 2 + offset_heater),\n",
    "            (w_heater / 2, h_heater / 2 + offset_heater),\n",
    "            (w_heater / 2, -h_heater / 2 + offset_heater),\n",
    "        ]\n",
    "    ),\n",
    "    clad=Polygon(\n",
    "        [\n",
    "            (-w_sim / 2, -h_core / 2),\n",
    "            (-w_sim / 2, -h_core / 2 + h_clad),\n",
    "            (w_sim / 2, -h_core / 2 + h_clad),\n",
    "            (w_sim / 2, -h_core / 2),\n",
    "        ]\n",
    "    ),\n",
    "    box=Polygon(\n",
    "        [\n",
    "            (-w_sim / 2, -h_core / 2),\n",
    "            (-w_sim / 2, -h_core / 2 - h_box),\n",
    "            (w_sim / 2, -h_core / 2 - h_box),\n",
    "            (w_sim / 2, -h_core / 2),\n",
    "        ]\n",
    "    ),\n",
    "    wafer=Polygon(\n",
    "        [\n",
    "            (-w_sim / 2, -h_core / 2 - h_box - h_silicon),\n",
    "            (-w_sim / 2, -h_core / 2 - h_box),\n",
    "            (w_sim / 2, -h_core / 2 - h_box),\n",
    "            (w_sim / 2, -h_core / 2 - h_box - h_silicon),\n",
    "        ]\n",
    "    ),\n",
    ")\n",
    "\n",
    "resolutions = dict(\n",
    "    core={\"resolution\": 0.04, \"distance\": 1},\n",
    "    clad={\"resolution\": 0.6, \"distance\": 1},\n",
    "    box={\"resolution\": 0.6, \"distance\": 1},\n",
    "    heater={\"resolution\": 0.1, \"distance\": 1},\n",
    ")\n",
    "\n",
    "mesh = from_meshio(\n",
    "    mesh_from_OrderedDict(polygons, resolutions, default_resolution_max=0.6)\n",
    ")\n",
    "mesh.draw().show()"
   ]
  },
  {
   "cell_type": "markdown",
   "id": "4",
   "metadata": {},
   "source": [
    "Using the previously defined geometry and the resulting mesh, we can calculate the thermal distribution!\n",
    "For this we start with defining the current densities we want to simulate within the TiN resistor.\n",
    "Here we use the same values as in the referenced paper.\n",
    "\n",
    "For each temperature distribution we calculate the modes of the waveguide and track their change in effective refractive index.\n",
    "Using the change of the effective refractive index we can calculate the phase shift accumulated within the thermal phase shifter of a given length.\n",
    "To stay consistent with the referenced paper, we use a length of 320um."
   ]
  },
  {
   "cell_type": "code",
   "execution_count": null,
   "id": "5",
   "metadata": {
    "tags": [
     "remove-stderr"
    ]
   },
   "outputs": [],
   "source": [
    "currents = np.linspace(0.0, 7.4e-3, 10)\n",
    "current_densities = currents / polygons[\"heater\"].area\n",
    "neffs = []\n",
    "\n",
    "for current_density in tqdm(current_densities):\n",
    "    basis0 = Basis(mesh, ElementTriP0(), intorder=4)\n",
    "    thermal_conductivity_p0 = basis0.zeros()\n",
    "    for domain, value in {\n",
    "        \"core\": 90,\n",
    "        \"box\": 1.38,\n",
    "        \"clad\": 1.38,\n",
    "        \"heater\": 28,\n",
    "        \"wafer\": 148,\n",
    "    }.items():\n",
    "        thermal_conductivity_p0[basis0.get_dofs(elements=domain)] = value\n",
    "    thermal_conductivity_p0 *= 1e-12  # 1e-12 -> conversion from 1/m^2 -> 1/um^2\n",
    "\n",
    "    basis, temperature = solve_thermal(\n",
    "        basis0,\n",
    "        thermal_conductivity_p0,\n",
    "        specific_conductivity={\"heater\": 2.3e6},\n",
    "        current_densities={\"heater\": current_density},\n",
    "        fixed_boundaries={\"bottom\": 0},\n",
    "    )\n",
    "\n",
    "    if current_density == current_densities[-1]:\n",
    "        basis.plot(temperature, shading=\"gouraud\", colorbar=True)\n",
    "        plt.show()\n",
    "\n",
    "    temperature0 = basis0.project(basis.interpolate(temperature))\n",
    "    epsilon = basis0.zeros() + (1.444 + 1.00e-5 * temperature0) ** 2\n",
    "    epsilon[basis0.get_dofs(elements=\"core\")] = (\n",
    "        3.4777 + 1.86e-4 * temperature0[basis0.get_dofs(elements=\"core\")]\n",
    "    ) ** 2\n",
    "    # basis0.plot(epsilon, colorbar=True).show()\n",
    "\n",
    "    modes = compute_modes(basis0, epsilon, wavelength=1.55, num_modes=1)\n",
    "\n",
    "    if current_density == current_densities[-1]:\n",
    "        modes[0].show(modes[0].E.real)\n",
    "\n",
    "    neffs.append(np.real(modes[0].n_eff))\n",
    "\n",
    "plt.xlabel(\"Current / mA\")\n",
    "plt.ylabel(\"Effective refractive index $n_{eff}$\")\n",
    "plt.plot(currents * 1e3, neffs)\n",
    "plt.show()"
   ]
  },
  {
   "cell_type": "markdown",
   "id": "6",
   "metadata": {},
   "source": [
    "\n",
    "Using the values we calculated for no applied current density and the highest applied current density, we can calculate the phase shift introduced by the current:"
   ]
  },
  {
   "cell_type": "code",
   "execution_count": null,
   "id": "7",
   "metadata": {
    "tags": [
     "remove-stderr"
    ]
   },
   "outputs": [],
   "source": [
    "print(f\"Phase shift: {2 * np.pi / 1.55 * (neffs[-1] - neffs[0]) * 320}\")"
   ]
  },
  {
   "cell_type": "markdown",
   "id": "8",
   "metadata": {},
   "source": [
    "## Bibliography\n",
    "\n",
    "```{bibliography}\n",
    ":style: unsrt\n",
    ":filter: docname in docnames\n",
    "```"
   ]
  }
 ],
 "metadata": {
  "jupytext": {
   "main_language": "python"
  },
  "kernelspec": {
   "display_name": "Python 3",
   "name": "python3"
  }
 },
 "nbformat": 4,
 "nbformat_minor": 5
}
