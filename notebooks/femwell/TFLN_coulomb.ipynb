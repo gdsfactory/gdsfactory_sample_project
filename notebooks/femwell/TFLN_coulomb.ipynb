{
 "cells": [
  {
   "cell_type": "markdown",
   "id": "0",
   "metadata": {},
   "source": [
    "# Lithium niobate phase-shifter"
   ]
  },
  {
   "cell_type": "markdown",
   "id": "1",
   "metadata": {},
   "source": [
    "Reproducing {cite}`Han2022`"
   ]
  },
  {
   "cell_type": "code",
   "execution_count": null,
   "id": "2",
   "metadata": {
    "tags": [
     "hide-input"
    ]
   },
   "outputs": [],
   "source": [
    "from collections import OrderedDict\n",
    "\n",
    "import matplotlib.pyplot as plt\n",
    "import numpy as np\n",
    "from femwell.coulomb import solve_coulomb\n",
    "from femwell.maxwell.waveguide import compute_modes\n",
    "from femwell.mesh import mesh_from_OrderedDict\n",
    "from shapely.geometry import box\n",
    "from skfem import Basis, ElementDG, ElementTriP0, ElementTriP1\n",
    "from skfem.io import from_meshio\n",
    "from tqdm import tqdm"
   ]
  },
  {
   "cell_type": "code",
   "execution_count": null,
   "id": "3",
   "metadata": {
    "lines_to_next_cell": 2,
    "tags": [
     "remove-stderr"
    ]
   },
   "outputs": [],
   "source": [
    "core_width = 1.532\n",
    "electrode_start_x = core_width / 2 + 2.629\n",
    "electrode_width = 4.4\n",
    "\n",
    "electrode_left = box(\n",
    "    -electrode_start_x - electrode_width, 0.5, -electrode_start_x, 0.5 + 1.8\n",
    ")\n",
    "electrode_right = box(\n",
    "    electrode_start_x, 0.5, electrode_start_x + electrode_width, 0.5 + 1.8\n",
    ")\n",
    "slab = box(-10, 0, 10, 0.5)\n",
    "core = box(-core_width / 2, 0.5, core_width / 2, 0.8)\n",
    "env = slab.buffer(20, resolution=8)\n",
    "\n",
    "polygons = OrderedDict(\n",
    "    electrode_left=electrode_left,\n",
    "    electrode_right=electrode_right,\n",
    "    slab=slab,\n",
    "    core=core,\n",
    "    env=env,\n",
    ")\n",
    "\n",
    "resolutions = dict(\n",
    "    slab={\"resolution\": 0.1, \"distance\": 4},\n",
    "    core={\"resolution\": 0.1, \"distance\": 4},\n",
    ")\n",
    "\n",
    "mesh = from_meshio(\n",
    "    mesh_from_OrderedDict(\n",
    "        polygons, resolutions, filename=\"mesh.msh\", default_resolution_max=3\n",
    "    )\n",
    ")\n",
    "\n",
    "basis = Basis(mesh, ElementTriP1(), intorder=4)\n",
    "basis_epsilon_r = basis.with_element(ElementTriP0())\n",
    "\n",
    "epsilon_dc = basis_epsilon_r.zeros() + 3.9\n",
    "epsilon_dc[basis_epsilon_r.get_dofs(elements=\"slab\")] = 28.4\n",
    "epsilon_dc[basis_epsilon_r.get_dofs(elements=\"core\")] = 7.5\n",
    "# basis.plot(epsilon).show()\n",
    "\n",
    "basis_u, u = solve_coulomb(\n",
    "    basis_epsilon_r,\n",
    "    epsilon_dc,\n",
    "    {\"electrode_left___slab\": 1, \"electrode_right___slab\": 0},\n",
    ")\n",
    "\n",
    "fig, ax = plt.subplots()\n",
    "for subdomain in basis_epsilon_r.mesh.subdomains.keys() - {\"gmsh:bounding_entities\"}:\n",
    "    basis_epsilon_r.mesh.restrict(subdomain).draw(ax=ax, boundaries_only=True)\n",
    "basis_u.plot(u, ax=ax, shading=\"gouraud\", colorbar=True)\n",
    "# basis_vec.plot(-u_grad, ax=ax)\n",
    "plt.show()\n",
    "\n",
    "fig, ax = plt.subplots()\n",
    "for subdomain in basis_epsilon_r.mesh.subdomains.keys() - {\"gmsh:bounding_entities\"}:\n",
    "    basis_epsilon_r.mesh.restrict(subdomain).draw(ax=ax, boundaries_only=True)\n",
    "basis_grad = basis_u.with_element(ElementDG(basis_u.elem))\n",
    "e_x = basis_u.project(\n",
    "    -basis_epsilon_r.interpolate(epsilon_dc) * basis_u.interpolate(u).grad[0]\n",
    ")\n",
    "basis_u.plot(e_x, ax=ax, shading=\"gouraud\", colorbar=True)\n",
    "plt.show()\n",
    "\n",
    "voltages = np.linspace(0, 100, 5)\n",
    "voltages_neffs = []\n",
    "\n",
    "for voltage in tqdm(voltages):\n",
    "    refractive_index_optical = basis_epsilon_r.zeros() + 1.445\n",
    "    refractive_index_optical[basis_epsilon_r.get_dofs(elements=\"core\")] = 1.989\n",
    "    refractive_index_optical[basis_epsilon_r.get_dofs(elements=\"slab\")] = (\n",
    "        2.211\n",
    "        + 0.5\n",
    "        * 2.211**3\n",
    "        * 31e-6\n",
    "        * basis_epsilon_r.project(-basis_u.interpolate(u).grad[0])[\n",
    "            basis_epsilon_r.get_dofs(elements=\"slab\")\n",
    "        ]\n",
    "        * voltage\n",
    "    )\n",
    "    # basis_epsilon_r.plot(refractive_index, colorbar=True).show()\n",
    "\n",
    "    modes = compute_modes(basis_epsilon_r, refractive_index_optical**2, wavelength=1.55)\n",
    "    voltages_neffs.append(modes[0].n_eff)\n",
    "\n",
    "    # from mode_solver import plot_mode\n",
    "    # plot_mode(basis_modes, modes[0])\n",
    "    # plt.show()\n",
    "\n",
    "plt.plot(voltages, np.real(voltages_neffs))\n",
    "plt.xlabel(\"Voltage / V\")\n",
    "plt.ylabel(\"Effective refractive index\")\n",
    "plt.show()"
   ]
  },
  {
   "cell_type": "markdown",
   "id": "4",
   "metadata": {},
   "source": [
    "## Bibliography\n",
    "\n",
    "```{bibliography}\n",
    ":style: unsrt\n",
    ":filter: docname in docnames\n",
    "```"
   ]
  }
 ],
 "metadata": {
  "jupytext": {
   "main_language": "python"
  },
  "kernelspec": {
   "display_name": "Python 3",
   "name": "python3"
  },
  "language_info": {
   "codemirror_mode": {
    "name": "ipython",
    "version": 3
   },
   "file_extension": ".py",
   "mimetype": "text/x-python",
   "name": "python",
   "nbconvert_exporter": "python",
   "pygments_lexer": "ipython3",
   "version": "3.11.9"
  }
 },
 "nbformat": 4,
 "nbformat_minor": 5
}
