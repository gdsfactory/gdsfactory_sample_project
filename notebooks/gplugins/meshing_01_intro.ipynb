{
 "cells": [
  {
   "cell_type": "markdown",
   "id": "0",
   "metadata": {},
   "source": [
    "# Meshing introduction\n",
    "\n",
    "gdsfactory has interfaces to external meshers (currently: [gmsh](https://gmsh.info/)).\n",
    "\n",
    "Using a gdsfactory `Component` and a `Layerstack` reflecting the post-fabrication structure, you can automatically generate a 2D or 3D mesh suitable for physical simulation.\n",
    "\n",
    "Within gdsfactory, this interface is currently used for:\n",
    "\n",
    "* [finite-volume](https://en.wikipedia.org/wiki/Finite_volume_method) simulation through a [DEVSIM](https://devsim.org/) plugin, for e.g. TCAD simulations\n",
    "* [finite-element](https://en.wikipedia.org/wiki/Finite_element_method) simulation through the [femwell](https://github.com/HelgeGehring/femwell) wrapper around [scikit-fem](https://scikit-fem.readthedocs.io/en/latest/), for e.g. mode solving and thermal simulations\n",
    "\n",
    "Current features include:\n",
    "\n",
    "* GDS postprocessing -- common interface for layout and simulation\n",
    "* A generic shapely <--> gmsh translator, which properly reuses gmsh objects, resulting in conformal handling of\n",
    "    * lateral interfaces\n",
    "    * vertical interfaces\n",
    "    * polygon inclusions\n",
    "    * polygon \"holes\"\n",
    "* 2D meshing of in-plane cross-sections (e.g. x - y)\n",
    "* 2D meshing of out-of-plane cross-sections (e.g. arbitrary xy line - z)\n",
    "* (In progress) 3D meshing\n",
    "* The mesh is returned tagged with LayerStack `label` for each GDS layer according to a specific `mesh_order`\n",
    "* All interfaces between layer entities are also tagged as `label1___label2` to e.g. implement interfacial boundary conditions\n",
    "* Dummy layers can be easily introduced in a component to provide extra lines and polygons with custom labels to e.g. implement boundary conditions, sources, etc.\n",
    "* Coarse resolution setting per label, and around interfaces\n",
    "* Fine resolution setting with callable `[x,y,z,mesh_size]` functions (useful for simulation-driven refinement)\n",
    "\n",
    "\n",
    "GMSH can be used one of two ways:\n",
    "\n",
    "* The traditional “bottom-up” way, where the user manually defines points, then line segments (from points), then lines (from segments), then closed curves (from lines), then surfaces (from curves), then closed shells (from surfaces), and finally volumes (from shells).\n",
    "* With CAD-type boolean operations (set operations on objects)\n",
    "\n",
    "While the latter method is much simpler for complex geometries, as of 2022 it does not preserve physical and mesh information, requiring manual \"retagging\" of the entities after the boolean operations, and driving its complexity back to bottom-up construction (especially for arbitrary geometries).\n",
    "\n",
    "As such, gdsfactory uses the first approach, where the mask layers and a layer_stack are used as a guide to define the various physical entities, which are returned as tagged objects to the user.\n",
    "\n",
    "## Installation\n",
    "\n",
    "You can install the meshing plugins with `pip install gplugins[gmsh]`.\n",
    "\n",
    "Because PyVista does not work properly on headless systems we use Meshio."
   ]
  },
  {
   "cell_type": "markdown",
   "id": "1",
   "metadata": {},
   "source": [
    "## Usage\n",
    "\n",
    "First, you can start with a gdsfactory `Component`"
   ]
  },
  {
   "cell_type": "code",
   "execution_count": null,
   "id": "2",
   "metadata": {},
   "outputs": [],
   "source": [
    "import gdsfactory as gf\n",
    "import meshio\n",
    "from gdsfactory.generic_tech import LAYER_STACK, get_generic_pdk\n",
    "from gdsfactory.technology import LayerStack\n",
    "from gplugins.gmsh.get_mesh import create_physical_mesh, get_mesh\n",
    "from skfem.io import from_meshio\n",
    "\n",
    "gf.config.rich_output()\n",
    "PDK = get_generic_pdk()\n",
    "PDK.activate()\n",
    "\n",
    "waveguide = gf.components.straight_pin(length=10, taper=None)\n",
    "waveguide.plot()"
   ]
  },
  {
   "cell_type": "markdown",
   "id": "3",
   "metadata": {},
   "source": [
    "and a `LayerStack`. Here, we copy the example from `gdsfactory.generic_tech` for clarity).\n",
    "The `info` dict contains miscellaneous information about the layers, including `mesh_order`, which determines which layer will appear in the mesh if layers overlap."
   ]
  },
  {
   "cell_type": "markdown",
   "id": "4",
   "metadata": {},
   "source": [
    "We can filter this stack to only focus on some layers:"
   ]
  },
  {
   "cell_type": "code",
   "execution_count": null,
   "id": "5",
   "metadata": {},
   "outputs": [],
   "source": [
    "filtered_layer_stack = LayerStack(\n",
    "    layers={\n",
    "        k: LAYER_STACK.layers[k]\n",
    "        for k in (\n",
    "            \"slab90\",\n",
    "            \"core\",\n",
    "            \"via_contact\",\n",
    "        )\n",
    "    }\n",
    ")"
   ]
  },
  {
   "cell_type": "code",
   "execution_count": null,
   "id": "6",
   "metadata": {},
   "outputs": [],
   "source": [
    "filename = \"mesh\"\n",
    "\n",
    "\n",
    "def mesh_with_physicals(mesh, filename):\n",
    "    mesh_from_file = meshio.read(f\"{filename}.msh\")\n",
    "    return create_physical_mesh(mesh_from_file, \"triangle\")"
   ]
  },
  {
   "cell_type": "code",
   "execution_count": null,
   "id": "7",
   "metadata": {},
   "outputs": [],
   "source": [
    "scene = waveguide.to_3d(layer_stack=filtered_layer_stack)\n",
    "scene.show()"
   ]
  },
  {
   "cell_type": "markdown",
   "id": "8",
   "metadata": {},
   "source": [
    "The various processing and meshing functions are located under `gplugins.gmsh` and can be called from there, but a shortcut is implemented to mesh directly from a component:"
   ]
  },
  {
   "cell_type": "code",
   "execution_count": null,
   "id": "9",
   "metadata": {},
   "outputs": [],
   "source": [
    "mesh = get_mesh(\n",
    "    component=waveguide,\n",
    "    type=\"xy\",\n",
    "    z=0.09,\n",
    "    layer_stack=filtered_layer_stack,\n",
    "    filename=\"mesh.msh\",\n",
    ")"
   ]
  },
  {
   "cell_type": "markdown",
   "id": "10",
   "metadata": {},
   "source": [
    "This returns a gmsh `.msh` mesh, also saved in `filename` if provided, which can be processed:"
   ]
  },
  {
   "cell_type": "code",
   "execution_count": null,
   "id": "11",
   "metadata": {},
   "outputs": [],
   "source": [
    "mesh.get_cells_type(\"triangle\")\n",
    "mesh = from_meshio(mesh)\n",
    "mesh.draw().plot()"
   ]
  },
  {
   "cell_type": "markdown",
   "id": "12",
   "metadata": {},
   "source": [
    "The `gmsh` GUI can be used to load and inspect the `.msh` file:\n",
    "\n",
    "![msh mesh](https://imgur.com/jzwjEVC.png)"
   ]
  },
  {
   "cell_type": "markdown",
   "id": "13",
   "metadata": {},
   "source": [
    "[meshio](https://github.com/nschloe/meshio) can also be used to convert the `.msh` to another arbitrary format, to observe for instance with `Paraview`. This is useful, for instance to preprocess the `msh` file using the `create_mesh` utility in order to consolidate entities with the same label:"
   ]
  },
  {
   "cell_type": "code",
   "execution_count": null,
   "id": "14",
   "metadata": {},
   "outputs": [],
   "source": [
    "mesh_from_file = meshio.read(\"mesh.msh\")\n",
    "\n",
    "triangle_mesh = create_physical_mesh(mesh_from_file, \"triangle\")\n",
    "meshio.write(\"mesh.xdmf\", triangle_mesh)\n",
    "\n",
    "mesh = mesh_with_physicals(triangle_mesh, filename)\n",
    "mesh = from_meshio(mesh)\n",
    "mesh.draw().plot()"
   ]
  },
  {
   "cell_type": "markdown",
   "id": "15",
   "metadata": {},
   "source": [
    "You can opening the `mesh.xdmf` in paraview:\n",
    "\n",
    "![](https://imgur.com/zBn5596.png)"
   ]
  },
  {
   "cell_type": "code",
   "execution_count": null,
   "id": "16",
   "metadata": {},
   "outputs": [],
   "source": [
    "line_mesh = create_physical_mesh(mesh_from_file, \"line\")\n",
    "meshio.write(\"facet_mesh.xdmf\", line_mesh)\n",
    "\n",
    "mesh = mesh_with_physicals(line_mesh, filename)\n",
    "mesh = from_meshio(mesh)\n",
    "mesh.draw().plot()"
   ]
  },
  {
   "cell_type": "markdown",
   "id": "17",
   "metadata": {},
   "source": [
    "Opening the `facet_mesh.xdmf` in paraview:\n",
    "\n",
    "![](https://imgur.com/tNhIIPK.png)"
   ]
  },
  {
   "cell_type": "markdown",
   "id": "18",
   "metadata": {},
   "source": [
    "The `xdmf` files with consolidated physical groups can also be opened dynamically in a notebook with `pyvista`"
   ]
  }
 ],
 "metadata": {
  "jupytext": {
   "cell_metadata_filter": "-all",
   "main_language": "python",
   "notebook_metadata_filter": "-all"
  }
 },
 "nbformat": 4,
 "nbformat_minor": 5
}
