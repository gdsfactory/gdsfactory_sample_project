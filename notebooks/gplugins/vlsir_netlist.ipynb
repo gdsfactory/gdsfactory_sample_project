{
 "cells": [
  {
   "cell_type": "markdown",
   "id": "0",
   "metadata": {},
   "source": [
    "# VLSIR\n",
    "\n",
    "Thanks to [VLSIR](https://github.com/Vlsir/Vlsir) you can parse for KLayout's gds-extracted netlist's and convert it to Spectre, Spice and Xyce simulator schematic file formats\n",
    "\n",
    "\n",
    "## Simulator and Analysis Support\n",
    "\n",
    "Each spice-class simulator includes its own netlist syntax and opinions about the specification for analyses. [See](https://github.com/Vlsir/Vlsir/blob/main/VlsirTools/readme.md)\n",
    "\n",
    "| Analysis             | Spectre            | Xyce               | NgSpice     |\n",
    "| -------------------- | ------------------ | ------------------ | ------------------ |\n",
    "| Op                   | ✅ | ✅ | ✅ |\n",
    "| Dc                   | ✅ | ✅ | |\n",
    "| Tran                 | ✅ | ✅ | ✅ |\n",
    "| Ac                   | ✅ | ✅ | ✅ |\n",
    "| Noise                |                    |                    | ✅ |\n",
    "| Sweep                |  |  |  |\n",
    "| Monte Carlo          |  |  |  |\n",
    "| Custom               |  |  |  |\n"
   ]
  },
  {
   "cell_type": "code",
   "execution_count": null,
   "id": "1",
   "metadata": {},
   "outputs": [],
   "source": [
    "from io import StringIO\n",
    "\n",
    "import gplugins.vlsir as gs\n",
    "from gdsfactory.samples.demo.lvs import pads_correct\n",
    "from gplugins.klayout.get_netlist import get_netlist"
   ]
  },
  {
   "cell_type": "code",
   "execution_count": null,
   "id": "2",
   "metadata": {},
   "outputs": [],
   "source": [
    "c = pads_correct()\n",
    "c.plot()"
   ]
  },
  {
   "cell_type": "code",
   "execution_count": null,
   "id": "3",
   "metadata": {},
   "outputs": [],
   "source": [
    "gdspath = c.write_gds()\n",
    "\n",
    "# get the netlist\n",
    "kdbnetlist = get_netlist(gdspath)\n",
    "\n",
    "# convert it to a VLSIR Package\n",
    "pkg = gs.kdb_vlsir(kdbnetlist, domain=\"gplugins.klayout.example\")"
   ]
  },
  {
   "cell_type": "markdown",
   "id": "4",
   "metadata": {},
   "source": [
    "## Spectre RF"
   ]
  },
  {
   "cell_type": "code",
   "execution_count": null,
   "id": "5",
   "metadata": {},
   "outputs": [],
   "source": [
    "out = StringIO()\n",
    "gs.export_netlist(pkg, dest=out, fmt=\"spectre\")\n",
    "print(out.getvalue())"
   ]
  },
  {
   "cell_type": "markdown",
   "id": "6",
   "metadata": {},
   "source": [
    "## Xyce"
   ]
  },
  {
   "cell_type": "code",
   "execution_count": null,
   "id": "7",
   "metadata": {},
   "outputs": [],
   "source": [
    "out = StringIO()\n",
    "gs.export_netlist(pkg, dest=out, fmt=\"xyce\")\n",
    "print(out.getvalue())"
   ]
  },
  {
   "cell_type": "markdown",
   "id": "8",
   "metadata": {},
   "source": [
    "## ngspice\n"
   ]
  },
  {
   "cell_type": "code",
   "execution_count": null,
   "id": "9",
   "metadata": {},
   "outputs": [],
   "source": [
    "out = StringIO()\n",
    "gs.export_netlist(pkg, dest=out, fmt=\"spice\")\n",
    "print(out.getvalue())"
   ]
  },
  {
   "cell_type": "code",
   "execution_count": null,
   "id": "10",
   "metadata": {},
   "outputs": [],
   "source": []
  }
 ],
 "metadata": {
  "jupytext": {
   "cell_metadata_filter": "-all",
   "custom_cell_magics": "kql"
  },
  "kernelspec": {
   "display_name": "base",
   "language": "python",
   "name": "python3"
  }
 },
 "nbformat": 4,
 "nbformat_minor": 5
}
