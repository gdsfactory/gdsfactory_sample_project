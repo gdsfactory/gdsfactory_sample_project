{
 "cells": [
  {
   "cell_type": "markdown",
   "id": "0",
   "metadata": {},
   "source": [
    "# Circuit switch optimization"
   ]
  },
  {
   "cell_type": "markdown",
   "id": "1",
   "metadata": {},
   "source": [
    "## Imports"
   ]
  },
  {
   "cell_type": "code",
   "execution_count": null,
   "id": "2",
   "metadata": {},
   "outputs": [],
   "source": [
    "import gdsfactoryplus as gfp\n",
    "import jax\n",
    "import jax.numpy as jnp\n",
    "import matplotlib.pyplot as plt\n",
    "import sax\n",
    "from cspdk.si220.cband import PDK\n",
    "from ipywidgets import interact\n",
    "from scipy.constants import c as c_m_s"
   ]
  },
  {
   "cell_type": "markdown",
   "id": "3",
   "metadata": {},
   "source": [
    "## Config"
   ]
  },
  {
   "cell_type": "code",
   "execution_count": null,
   "id": "4",
   "metadata": {},
   "outputs": [],
   "source": [
    "wl0 = 1.55  # [um] Center wavelength\n",
    "wl = jnp.linspace(1.50, 1.60, 1001)  # [um]\n",
    "\n",
    "dL0 = 100  # [um] delay length"
   ]
  },
  {
   "cell_type": "code",
   "execution_count": null,
   "id": "5",
   "metadata": {},
   "outputs": [],
   "source": [
    "wl0 = 1.55  # [um] Center wavelength\n",
    "c_um_s = 1e6 * c_m_s  # [um/s] Speed of light\n",
    "f = c_um_s / wl0  # [Hz] Frequency\n",
    "df = 100e9  # [Hz] Channel Frequency Spacing\n",
    "channel_spacing = (c_um_s / (f**2)) * df  # [um] Channel Wavelength Spacing\n",
    "print(f\"Channel spacing: {channel_spacing * 1e3:.3f} nm\")\n",
    "\n",
    "wls_nm = 1550 + jnp.array(jnp.arange(8)) * 0.8\n",
    "wls = wls_nm / 1e3  # [um]"
   ]
  },
  {
   "cell_type": "markdown",
   "id": "6",
   "metadata": {},
   "source": [
    "## Netlist"
   ]
  },
  {
   "cell_type": "code",
   "execution_count": null,
   "id": "7",
   "metadata": {},
   "outputs": [],
   "source": [
    "PDK.activate()\n",
    "gfp.register_cells()\n",
    "filter = PDK.cells[\"mzi_heater\"]\n",
    "cell = filter(dL=100)  # add optional lattice arguments here (python pcells only)\n",
    "netlist = cell.get_netlist(recursive=True)\n",
    "cell.plot()"
   ]
  },
  {
   "cell_type": "code",
   "execution_count": null,
   "id": "8",
   "metadata": {},
   "outputs": [],
   "source": [
    "gfp.show(netlist)"
   ]
  },
  {
   "cell_type": "code",
   "execution_count": null,
   "id": "9",
   "metadata": {},
   "outputs": [],
   "source": [
    "netlist"
   ]
  },
  {
   "cell_type": "markdown",
   "id": "10",
   "metadata": {},
   "source": [
    "## MZI Circuit"
   ]
  },
  {
   "cell_type": "code",
   "execution_count": null,
   "id": "11",
   "metadata": {},
   "outputs": [],
   "source": [
    "# it's best to construct the circuit outside the wrapping function:\n",
    "# this makes sure the circuit only needs to be constructed once.\n",
    "_mzi, _ = sax.circuit(netlist, PDK.models)\n",
    "\n",
    "# let's now wrap the constructed mzi:\n",
    "\n",
    "\n",
    "@jax.jit  # let's jit it for better performance\n",
    "def mzi(wl=1.55, dL=100):\n",
    "    \"\"\"Returns the mzi circuit with the given wavelength and delay line length.\"\"\"\n",
    "    return _mzi(\n",
    "        wl=wl,  # top-level arguments will be distrubuted to all subcomponents that take that argument.\n",
    "        # but we can also set settings for a specific subcomponent:\n",
    "        sr={\"length\": dL},\n",
    "        sl={\"length\": dL},\n",
    "    )"
   ]
  },
  {
   "cell_type": "code",
   "execution_count": null,
   "id": "12",
   "metadata": {},
   "outputs": [],
   "source": [
    "mzi?"
   ]
  },
  {
   "cell_type": "code",
   "execution_count": null,
   "id": "13",
   "metadata": {},
   "outputs": [],
   "source": [
    "@interact(dL=(10, 100))\n",
    "def show(dL=dL0):\n",
    "    \"\"\"Show the mzi circuit with the given delay line length.\"\"\"\n",
    "    plt.figure(figsize=(8, 3))\n",
    "    S = sax.sdict(mzi(wl=wl, dL=dL))\n",
    "    plt.plot(wl, abs(S[\"o1\", \"o3\"]) ** 2, label=\"in0->out0\", color=\"C0\")\n",
    "    plt.plot(wl, abs(S[\"o1\", \"o4\"]) ** 2, label=\"in0->out1\", ls=\"--\", color=\"C1\")\n",
    "    plt.ylabel(\"power\")\n",
    "    plt.grid(True)\n",
    "    plt.yticks([0.0, 0.25, 0.5, 0.75, 1.0])\n",
    "    plt.ylim(0.0, 1.0)\n",
    "    plt.xticks(jnp.round(wls, 4))\n",
    "    plt.xlim(wls.min(), wls.max())\n",
    "    plt.xlabel(\"λ [μm]\")\n",
    "    plt.figlegend(ncol=2)\n",
    "    plt.show()"
   ]
  },
  {
   "cell_type": "markdown",
   "id": "14",
   "metadata": {},
   "source": [
    "## Optimization"
   ]
  },
  {
   "cell_type": "markdown",
   "id": "15",
   "metadata": {},
   "source": [
    "We'd like to optimize an MZI such that one of the minima is at 1552.4nm. To do this, we need to define a loss function for the circuit at 1530nm. This function should take the parameters that you want to optimize as positional arguments:"
   ]
  },
  {
   "cell_type": "code",
   "execution_count": null,
   "id": "16",
   "metadata": {},
   "outputs": [],
   "source": [
    "import jax.example_libraries.optimizers as opt\n",
    "from tqdm.notebook import trange\n",
    "\n",
    "wl_target = 1.5524\n",
    "\n",
    "\n",
    "@jax.jit\n",
    "def loss_fn(delta_length):\n",
    "    S = mzi(wl=wl_target, dL=delta_length)\n",
    "    return jnp.mean(jnp.abs(S[\"o1\", \"o4\"]) ** 2)"
   ]
  },
  {
   "cell_type": "code",
   "execution_count": null,
   "id": "17",
   "metadata": {},
   "outputs": [],
   "source": [
    "grad_fn = jax.jit(\n",
    "    jax.grad(\n",
    "        loss_fn,\n",
    "        argnums=0,  # JAX gradient function for the first positional argument, jitted\n",
    "    )\n",
    ")"
   ]
  },
  {
   "cell_type": "code",
   "execution_count": null,
   "id": "18",
   "metadata": {},
   "outputs": [],
   "source": [
    "initial_delta_length = 21.0\n",
    "init_fn, update_fn, params_fn = opt.adam(step_size=0.1)\n",
    "state = init_fn(initial_delta_length)"
   ]
  },
  {
   "cell_type": "markdown",
   "id": "19",
   "metadata": {},
   "source": [
    "Given all this, a single training step can be defined:"
   ]
  },
  {
   "cell_type": "code",
   "execution_count": null,
   "id": "20",
   "metadata": {},
   "outputs": [],
   "source": [
    "def step_fn(step, state):\n",
    "    \"\"\"Runs one step of the optimizer.\"\"\"\n",
    "    params = params_fn(state)\n",
    "    loss = loss_fn(params)\n",
    "    grad = grad_fn(params)\n",
    "    state = update_fn(step, grad, state)\n",
    "    return loss, state"
   ]
  },
  {
   "cell_type": "markdown",
   "id": "21",
   "metadata": {},
   "source": [
    "And we can use this step function to start the training of the MZI:"
   ]
  },
  {
   "cell_type": "code",
   "execution_count": null,
   "id": "22",
   "metadata": {},
   "outputs": [],
   "source": [
    "for step in (\n",
    "    pb := trange(300)\n",
    "):  # the first two iterations take a while because the circuit is being jitted...\n",
    "    loss, state = step_fn(step, state)\n",
    "    pb.set_postfix(loss=f\"{loss:.6f}\")"
   ]
  },
  {
   "cell_type": "code",
   "execution_count": null,
   "id": "23",
   "metadata": {},
   "outputs": [],
   "source": [
    "delta_length = params_fn(state)\n",
    "delta_length"
   ]
  },
  {
   "cell_type": "markdown",
   "id": "24",
   "metadata": {},
   "source": [
    "Let's see what we've got over a range of wavelengths:"
   ]
  },
  {
   "cell_type": "code",
   "execution_count": null,
   "id": "25",
   "metadata": {},
   "outputs": [],
   "source": [
    "wl = jnp.linspace(1.5, 1.6, 1000)\n",
    "S = mzi(wl=wl, dL=delta_length)\n",
    "plt.plot(wl * 1e3, abs(S[\"o1\", \"o3\"]) ** 2, label=\"o1->o3\")\n",
    "plt.plot(wl * 1e3, abs(S[\"o1\", \"o4\"]) ** 2, label=\"o1->o4\")\n",
    "plt.xlabel(\"λ [nm]\")\n",
    "plt.ylabel(\"T\")\n",
    "plt.plot([wl_target * 1e3, wl_target * 1e3], [-1, 2], ls=\":\", color=\"black\")\n",
    "plt.ylim(-0.05, 1.05)\n",
    "plt.grid(True)\n",
    "plt.legend()\n",
    "plt.show()"
   ]
  },
  {
   "cell_type": "markdown",
   "id": "26",
   "metadata": {},
   "source": [
    "We have calculated the delta length of the switch to maximize the power at the target wavelength."
   ]
  },
  {
   "cell_type": "code",
   "execution_count": null,
   "id": "27",
   "metadata": {},
   "outputs": [],
   "source": [
    "print(f\"Final delta length: {delta_length:.2f} um at {wl_target:.4f} um\")"
   ]
  },
  {
   "cell_type": "code",
   "execution_count": null,
   "id": "28",
   "metadata": {},
   "outputs": [],
   "source": [
    "cell_parametric = PDK.cells[\"mzi_heater_parametric\"]\n",
    "c = cell_parametric(\n",
    "    dL=float(delta_length)\n",
    ")  # add optional lattice arguments here (python pcells only)\n",
    "c.plot()"
   ]
  },
  {
   "cell_type": "code",
   "execution_count": null,
   "id": "29",
   "metadata": {},
   "outputs": [],
   "source": [
    "c.show()"
   ]
  },
  {
   "cell_type": "code",
   "execution_count": null,
   "id": "30",
   "metadata": {},
   "outputs": [],
   "source": [
    "s = c.to_3d()\n",
    "s.show()"
   ]
  },
  {
   "cell_type": "code",
   "execution_count": null,
   "id": "31",
   "metadata": {},
   "outputs": [],
   "source": []
  }
 ],
 "metadata": {
  "kernelspec": {
   "display_name": ".venv",
   "language": "python",
   "name": "python3"
  },
  "language_info": {
   "codemirror_mode": {
    "name": "ipython",
    "version": 3
   },
   "file_extension": ".py",
   "mimetype": "text/x-python",
   "name": "python",
   "nbconvert_exporter": "python",
   "pygments_lexer": "ipython3",
   "version": "3.12.9"
  }
 },
 "nbformat": 4,
 "nbformat_minor": 5
}
