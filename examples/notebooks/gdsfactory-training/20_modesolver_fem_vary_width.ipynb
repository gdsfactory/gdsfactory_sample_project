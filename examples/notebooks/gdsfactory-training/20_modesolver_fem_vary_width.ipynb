{
 "cells": [
  {
   "cell_type": "markdown",
   "id": "0",
   "metadata": {},
   "source": [
    "# FEM mode solver \n",
    "\n",
    "To understand the propagation in a waveguide, it's often helpful to look at how the effective refractive indices of the modes change when adjusting the width of the waveguide.\n",
    "As the modes continuously change their refractive index, we can track them through their evolution.\n",
    "We gray the area which would indicate a effective refractive index below the refractive index of the underlying layer (commonly referred to as box), as such modes would not be guided.\n",
    "The refractive index of the box called \"cutoff\", as it defines the effective refractive index level under which modes stop being guided."
   ]
  },
  {
   "cell_type": "code",
   "execution_count": null,
   "id": "1",
   "metadata": {
    "tags": [
     "hide-input"
    ]
   },
   "outputs": [],
   "source": [
    "from collections import OrderedDict\n",
    "\n",
    "import matplotlib.pyplot as plt\n",
    "import numpy as np\n",
    "from femwell.maxwell.waveguide import compute_modes\n",
    "from femwell.mesh import mesh_from_OrderedDict\n",
    "from shapely.geometry import Polygon, box\n",
    "from shapely.ops import clip_by_rect\n",
    "from skfem import Basis, ElementTriP0\n",
    "from skfem.io.meshio import from_meshio\n",
    "from tqdm import tqdm"
   ]
  },
  {
   "cell_type": "code",
   "execution_count": null,
   "id": "2",
   "metadata": {
    "tags": [
     "remove-stderr"
    ]
   },
   "outputs": [],
   "source": [
    "wavelength = 1.55  # wavelength of the light\n",
    "ncore = 1.9963  # refractive index of the core (SiN)\n",
    "nclad = 1.444  # refractive index of the cladding (SiO2)\n",
    "num_modes = 8\n",
    "wg_thickness = 0.33\n",
    "widths = np.linspace(0.5, 3.5, 100)\n",
    "\n",
    "all_neffs = np.zeros((widths.shape[0], num_modes))\n",
    "all_te_fracs = np.zeros((widths.shape[0], num_modes))\n",
    "for i, width in enumerate(tqdm(widths)):\n",
    "    core = box(0, 0, width, wg_thickness)\n",
    "    polygons = OrderedDict(\n",
    "        core=core,\n",
    "        box=clip_by_rect(core.buffer(1.0, resolution=4), -np.inf, -np.inf, np.inf, 0),\n",
    "        clad=clip_by_rect(core.buffer(1.0, resolution=4), -np.inf, 0, np.inf, np.inf),\n",
    "    )\n",
    "\n",
    "    resolutions = {\"core\": {\"resolution\": 0.1, \"distance\": 1}}\n",
    "\n",
    "    mesh = from_meshio(\n",
    "        mesh_from_OrderedDict(polygons, resolutions, default_resolution_max=0.6)\n",
    "    )\n",
    "\n",
    "    basis0 = Basis(mesh, ElementTriP0())\n",
    "    epsilon = basis0.zeros(dtype=complex)\n",
    "    for subdomain, n in {\"core\": ncore, \"box\": nclad, \"clad\": nclad}.items():\n",
    "        epsilon[basis0.get_dofs(elements=subdomain)] = n**2\n",
    "\n",
    "    modes = compute_modes(basis0, epsilon, wavelength=wavelength, num_modes=num_modes)\n",
    "    all_neffs[i] = np.real([mode.n_eff for mode in modes])\n",
    "    all_te_fracs[i, :] = [mode.te_fraction for mode in modes]"
   ]
  },
  {
   "cell_type": "code",
   "execution_count": null,
   "id": "3",
   "metadata": {
    "tags": [
     "hide-input"
    ]
   },
   "outputs": [],
   "source": [
    "all_neffs = np.real(all_neffs)\n",
    "plt.xlabel(\"Width of waveguide / µm\")\n",
    "plt.ylabel(\"Effective refractive index\")\n",
    "plt.fill_between(widths, nclad, alpha=0.5, color=\"gray\")\n",
    "plt.ylim(1.36, np.max(all_neffs) + 0.1 * (np.max(all_neffs) - 1.444))\n",
    "for lams, te_fracs in zip(all_neffs.T, all_te_fracs.T):\n",
    "    plt.plot(widths, lams)\n",
    "    plt.scatter(widths, lams, c=te_fracs, cmap=\"cool\")\n",
    "plt.colorbar().set_label(\"TE fraction\")\n",
    "plt.title(\"Effective refractive index vs width of waveguide of SiN\")\n",
    "plt.show()"
   ]
  },
  {
   "cell_type": "markdown",
   "id": "4",
   "metadata": {},
   "source": [
    "The graph shows a TE mode emerging (getting a greater effective refractive index than the box) at a width of ~750nm.\n",
    "The second mode emerges at a width of ~1700nm.\n",
    "Thus, the waveguide is a single mode waveguide with a width within the range from ~750nm to 1700nm.\n",
    "\n",
    "The second mode is at the width at which it emerges a TM-mode, but shows for slightly wider waveguides an anti-crossing with the emerging TE-mode.\n",
    "After this anti-crossing, the mode with the second highest effective refracteive index is TE10-mode, while the TM00-mode keeps existing in the system with an effective refractive inded slightly above the cutoff.\n",
    "At a  width of ~2600nm, a third TE-mode starts being guided."
   ]
  },
  {
   "cell_type": "code",
   "execution_count": null,
   "id": "5",
   "metadata": {},
   "outputs": [],
   "source": [
    "wavelength = 1.55  # wavelength of the light\n",
    "ncore = 3.47  # refractive index of the core (Si)\n",
    "nclad = 1.444  # refractive index of the cladding (SiO2)\n",
    "num_modes = 6\n",
    "widths = np.linspace(0.2, 1.0, 100)  # width of the waveguide\n",
    "wg_thickness = 0.22\n",
    "sidewall_angle = 0  # sidewall angle of the waveguide (in degrees)\n",
    "slab_thickness = 0\n",
    "default_resolution_max = 0.6\n",
    "\n",
    "core_resolution = 0.08\n",
    "core_distance = 1\n",
    "buffer_size = 1.0\n",
    "\n",
    "\n",
    "all_neffs = np.zeros((widths.shape[0], num_modes))\n",
    "all_te_fracs = np.zeros((widths.shape[0], num_modes))\n",
    "for i, width in enumerate(tqdm(widths)):\n",
    "    top_width = width\n",
    "    bottom_width = 2 * np.tan(np.deg2rad(sidewall_angle)) + width\n",
    "    total_slab_width = 4 + bottom_width\n",
    "\n",
    "    if slab_thickness > 0:\n",
    "        core = Polygon(\n",
    "            [\n",
    "                (-total_slab_width / 2, 0),\n",
    "                (+total_slab_width / 2, 0),\n",
    "                (+total_slab_width / 2, slab_thickness),\n",
    "                (+bottom_width / 2, slab_thickness),\n",
    "                (+top_width / 2, wg_thickness),\n",
    "                (-top_width / 2, wg_thickness),\n",
    "                (-bottom_width / 2, slab_thickness),\n",
    "                (-total_slab_width / 2, slab_thickness),\n",
    "                (-total_slab_width / 2, 0),\n",
    "            ]\n",
    "        )\n",
    "    else:\n",
    "        core = Polygon(\n",
    "            [\n",
    "                (-bottom_width / 2, 0),\n",
    "                (+bottom_width / 2, 0),\n",
    "                (+top_width / 2, wg_thickness),\n",
    "                (-top_width / 2, wg_thickness),\n",
    "                (-bottom_width / 2, 0),\n",
    "            ]\n",
    "        )\n",
    "\n",
    "    polygons = OrderedDict(\n",
    "        core=core,\n",
    "        box=clip_by_rect(\n",
    "            core.buffer(buffer_size, resolution=4), -np.inf, -np.inf, np.inf, 0\n",
    "        ),\n",
    "        clad=clip_by_rect(\n",
    "            core.buffer(buffer_size, resolution=4), -np.inf, 0, np.inf, np.inf\n",
    "        ),\n",
    "    )\n",
    "\n",
    "    resolutions = {\"core\": {\"resolution\": core_resolution, \"distance\": core_distance}}\n",
    "\n",
    "    mesh = from_meshio(\n",
    "        mesh_from_OrderedDict(\n",
    "            polygons, resolutions, default_resolution_max=default_resolution_max\n",
    "        )\n",
    "    )\n",
    "\n",
    "    resolutions = {\"core\": {\"resolution\": core_resolution, \"distance\": core_distance}}\n",
    "    mesh = from_meshio(\n",
    "        mesh_from_OrderedDict(\n",
    "            polygons, resolutions, default_resolution_max=default_resolution_max\n",
    "        )\n",
    "    )\n",
    "\n",
    "    basis0 = Basis(mesh, ElementTriP0())\n",
    "    epsilon = basis0.zeros(dtype=complex)\n",
    "    for subdomain, n in {\"core\": ncore, \"box\": nclad, \"clad\": nclad}.items():\n",
    "        epsilon[basis0.get_dofs(elements=subdomain)] = n**2\n",
    "\n",
    "    modes = compute_modes(basis0, epsilon, wavelength=wavelength, num_modes=num_modes)\n",
    "    all_neffs[i] = np.real([mode.n_eff for mode in modes])\n",
    "    all_te_fracs[i, :] = [mode.te_fraction for mode in modes]"
   ]
  },
  {
   "cell_type": "code",
   "execution_count": null,
   "id": "6",
   "metadata": {},
   "outputs": [],
   "source": [
    "all_neffs = np.real(all_neffs)\n",
    "plt.title(\"Effective refractive index vs width of waveguide of Si\")\n",
    "plt.xlabel(\"Width of waveguide / µm\")\n",
    "plt.ylabel(\"Effective refractive index\")\n",
    "plt.fill_between(widths, nclad, alpha=0.5, color=\"gray\")\n",
    "plt.ylim(1.36, np.max(all_neffs) + 0.1 * (np.max(all_neffs) - 1.444))\n",
    "for lams, te_fracs in zip(all_neffs.T, all_te_fracs.T):\n",
    "    plt.plot(widths, lams)\n",
    "    plt.scatter(widths, lams, c=te_fracs, cmap=\"cool\")\n",
    "plt.colorbar().set_label(\"TE fraction\")\n",
    "plt.show()"
   ]
  },
  {
   "cell_type": "markdown",
   "id": "7",
   "metadata": {},
   "source": [
    "The second order TE mode (pink) starts to be guided around 0.45 um, which is the single mode condition for these types of waveguides."
   ]
  },
  {
   "cell_type": "code",
   "execution_count": null,
   "id": "8",
   "metadata": {},
   "outputs": [],
   "source": [
    "modes[0].show(\"E\", part=\"real\")"
   ]
  },
  {
   "cell_type": "code",
   "execution_count": null,
   "id": "9",
   "metadata": {},
   "outputs": [],
   "source": [
    "modes[0].plot_component(\"E\", component=\"x\", part=\"real\", colorbar=True)"
   ]
  }
 ],
 "metadata": {
  "jupytext": {
   "encoding": "# -*- coding: utf-8 -*-",
   "main_language": "python"
  },
  "kernelspec": {
   "display_name": ".venv",
   "language": "python",
   "name": "python3"
  },
  "language_info": {
   "codemirror_mode": {
    "name": "ipython",
    "version": 3
   },
   "file_extension": ".py",
   "mimetype": "text/x-python",
   "name": "python",
   "nbconvert_exporter": "python",
   "pygments_lexer": "ipython3",
   "version": "3.12.9"
  }
 },
 "nbformat": 4,
 "nbformat_minor": 5
}
